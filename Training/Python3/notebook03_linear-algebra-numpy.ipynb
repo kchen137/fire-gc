{
 "cells": [
  {
   "cell_type": "markdown",
   "metadata": {},
   "source": [
    "# UMD FIRE Stream- Genome Computing III\n",
    "## Elements of Linear Algebra\n",
    "\n",
    "Here you will learn about working with vectors and matrices with the `numpy` module.\n",
    "\n",
    "Linear Algebra is not only essential in computational work, its important in Genome Computing work. \n",
    "\n",
    "This notebook will take a bit of time for those who are unfamilar with vectors and I encourage you to check out the numpy documentation at https://numpy.org/doc/ based on the version of NumPy you have.\n",
    "<li>- for the 'dnalab' environment you should refer to Version 1.23 (as of Jan 2023)</li>\n",
    "\n",
    "Here you will learn about\n",
    "<li>- arrays, rows, and columns</li>\n",
    "<li>- Learn to filter databased on logic operators</li>\n",
    "<li>- Make a figure with a \"meshgrid\"</li>\n",
    "<li>- and more!</li>\n"
   ]
  },
  {
   "cell_type": "markdown",
   "metadata": {},
   "source": [
    "# `numpy`\n",
    "\n",
    "`numpy` is another very popular package in the world of data science and machine learning. It is short for Numerical Python, and is one of the most important foundational packages for numerical computing in `python`.\n",
    "\n",
    "Let's start off by importing the package."
   ]
  },
  {
   "cell_type": "code",
   "execution_count": null,
   "metadata": {},
   "outputs": [],
   "source": [
    "# It is standard to import numpy as np\n",
    "\n",
    "import numpy as np\n",
    "\n",
    "print(np.__version__)\n"
   ]
  },
  {
   "cell_type": "markdown",
   "metadata": {},
   "source": [
    "### `numpy`'s ndarray\n",
    "\n",
    "The `numpy` data object is know as an `ndarray` it is similar to a list"
   ]
  },
  {
   "cell_type": "code",
   "execution_count": null,
   "metadata": {},
   "outputs": [],
   "source": [
    "# You can make an array with np.array\n",
    "\n",
    "array1 = np.array([1,2,3,4])\n",
    "\n",
    "print(array1)\n",
    "print()\n",
    "print(type(array1))\n"
   ]
  },
  {
   "cell_type": "markdown",
   "metadata": {},
   "source": [
    "... but it can have any <b>finite</b> number dimensions."
   ]
  },
  {
   "cell_type": "code",
   "execution_count": null,
   "metadata": {},
   "outputs": [],
   "source": [
    "array2 = np.array([[1,2],[2,1]])\n",
    "\n",
    "print(array2)\n",
    "print()\n",
    "\n",
    "# np.shape() will give you the dimensions of the array\n",
    "# array2 is a 2 by 2 array\n",
    "\n",
    "print(\"array2 is a\",np.shape(array2),\"ndarray\")\n"
   ]
  },
  {
   "cell_type": "code",
   "execution_count": null,
   "metadata": {},
   "outputs": [],
   "source": [
    "array3 = np.array([[[1,2],[2,1]],[[2,3],[3,2]]])\n",
    "\n",
    "print(array3)\n",
    "print()\n",
    "print(\"array3 is a\",np.shape(array3),\"ndarray\")\n"
   ]
  },
  {
   "cell_type": "markdown",
   "metadata": {},
   "source": [
    "We can keep going if we want to"
   ]
  },
  {
   "cell_type": "code",
   "execution_count": null,
   "metadata": {},
   "outputs": [],
   "source": [
    "## Practice\n",
    "## Make a 4 dimensional array and store it in array4\n",
    "\n",
    "array4 = np.array(\n",
    "[[[[1,2], [1,2]], [[1,2], [1,2]]], \n",
    " [[[1,2], [1,2]], [[1,2], [1,2]]],\n",
    " [[[1,2], [1,2]], [[1,2], [1,2]]]\n",
    "])\n",
    "    \n",
    "print(array4)\n",
    "print(\"array4 is a\",np.shape(array4),\"ndarray\")\n"
   ]
  },
  {
   "cell_type": "code",
   "execution_count": null,
   "metadata": {},
   "outputs": [],
   "source": [
    "# Delete the arrays you made above (save your memory)\n",
    "\n",
    "\n",
    "\n"
   ]
  },
  {
   "cell_type": "markdown",
   "metadata": {},
   "source": [
    "#### Other Array Generators\n",
    "\n",
    "As we've seen you can make arrays out of lists and lists of lists. There are also a number of built in array generators."
   ]
  },
  {
   "cell_type": "code",
   "execution_count": null,
   "metadata": {},
   "outputs": [],
   "source": [
    "# We can make an empty array\n",
    "# np.empty(array_shape)\n",
    "\n",
    "np.empty((2,2,2))\n"
   ]
  },
  {
   "cell_type": "code",
   "execution_count": null,
   "metadata": {},
   "outputs": [],
   "source": [
    "# We can make an array of all ones\n",
    "# np.ones(array_shape)\n",
    "\n",
    "np.ones(12)\n"
   ]
  },
  {
   "cell_type": "code",
   "execution_count": null,
   "metadata": {},
   "outputs": [],
   "source": [
    "#  An array of zeros\n",
    "# np.zeros(array_shape)\n",
    "\n",
    "np.zeros((4,4))\n"
   ]
  },
  {
   "cell_type": "code",
   "execution_count": null,
   "metadata": {},
   "outputs": [],
   "source": [
    "# a 1d array for an interval\n",
    "# np.linspace(start, end, number of entries)\n",
    "\n",
    "np.linspace(0, 1, 10)\n"
   ]
  },
  {
   "cell_type": "code",
   "execution_count": null,
   "metadata": {},
   "outputs": [],
   "source": [
    "# the numpy version of range allows decimals\n",
    "# np.arange(start,end,step_size)\n",
    "\n",
    "np.arange(0, 10, 0.1)\n"
   ]
  },
  {
   "cell_type": "code",
   "execution_count": null,
   "metadata": {},
   "outputs": [],
   "source": [
    "# make a 2-dimensional grid\n",
    "\n",
    "interval = np.linspace(-2,2,100)\n",
    "\n",
    "print(interval)\n",
    "\n",
    "print('*'*100)\n",
    "\n",
    "# meshgrid takes in two intervals as arguments\n",
    "# it outputs two arrays that give every x,y\n",
    "# pair from the two intervals you enter\n",
    "\n",
    "xs,ys = np.meshgrid(interval, interval)\n",
    "\n",
    "# useful for calculations\n",
    "\n",
    "z = xs**2 + ys**2  # the ** operator is an exponent, so **2 means 'squared'\n",
    "\n",
    "print(z)"
   ]
  },
  {
   "cell_type": "code",
   "execution_count": null,
   "metadata": {},
   "outputs": [],
   "source": [
    "# We will now import a second module - `matplotlib' - that will allow us to print figures\n",
    "\n",
    "# A sample plot using meshgrid\n",
    "\n",
    "import matplotlib.pyplot as plt\n",
    "\n",
    "plt.figure(figsize=(10,10))\n",
    "\n",
    "plt.imshow(z)\n",
    "\n",
    "# Try a different color map called plasma- comment out the plt line above and remove the commenter from the line below\n",
    "#plt.imshow(z, cmap=plt.cm.plasma)\n",
    "\n",
    "plt.colorbar()\n",
    "\n",
    "plt.title(\"Image of $x^2 + y^2$ for a grid of values\")\n",
    "\n",
    "plt.show()\n"
   ]
  },
  {
   "cell_type": "code",
   "execution_count": null,
   "metadata": {},
   "outputs": [],
   "source": [
    "# Task: use np.linspace make an interval from -5 to 5, store it in x; repeat for 30.0 to 40.0, store it in y, and print both x and y\n",
    "\n"
   ]
  },
  {
   "cell_type": "markdown",
   "metadata": {},
   "source": [
    "#### Indexing or Slicing an ndarray\n",
    "\n",
    "Just like with lists, pandas DataFrames, or any other data structure you may want to access particular elements or subsets of an ndarray. Let's see how to do that below."
   ]
  },
  {
   "cell_type": "code",
   "execution_count": null,
   "metadata": {},
   "outputs": [],
   "source": [
    "# a is a random 50 by 2 array\n",
    "# more on random arrays in a bit\n",
    "\n",
    "a = 2*np.random.random((50,2)) - 1\n",
    "\n",
    "a\n"
   ]
  },
  {
   "cell_type": "code",
   "execution_count": null,
   "metadata": {},
   "outputs": [],
   "source": [
    "# I can get an individual entry like so\n",
    "# the 1 row and 1 column entry\n",
    "print(a[1,1])\n",
    "print()\n",
    "\n",
    "\n",
    "# the entire 4th row\n",
    "print(a[4,:])\n",
    "print()\n",
    "\n",
    "\n",
    "# The entire 0th column\n",
    "# note despite being a column it is output as a row vector\n",
    "print(a[:,0])\n"
   ]
  },
  {
   "cell_type": "code",
   "execution_count": null,
   "metadata": {},
   "outputs": [],
   "source": [
    "# You can get a slice of a as well, such as the 1 through 4 rows\n",
    "\n",
    "a[1:4,:]\n"
   ]
  },
  {
   "cell_type": "code",
   "execution_count": null,
   "metadata": {},
   "outputs": [],
   "source": [
    "# You can index by logical conditions\n",
    "\n",
    "# Every entry of a where a is positive and returned as a 1d array\n",
    "a[ a > 0 ]"
   ]
  },
  {
   "cell_type": "code",
   "execution_count": null,
   "metadata": {},
   "outputs": [],
   "source": [
    "# Only rows where the 0th columns is positive\n",
    "# and the 1 column is negative\n",
    "\n",
    "a[ ( a[:,0] > 0 ) & ( a[:,1] < 0 ), :]\n"
   ]
  },
  {
   "cell_type": "code",
   "execution_count": null,
   "metadata": {},
   "outputs": [],
   "source": [
    "## Task: find all rows where the 1 column is greater than 0.25 or the 0 column is less than 0.25\n",
    "\n",
    "\n"
   ]
  },
  {
   "cell_type": "markdown",
   "metadata": {},
   "source": [
    "### Functions on ndarrays\n",
    "\n",
    "ndarrays are nice because unlike base `python` lists and arrays `numpy` has been designed to allow very fast elementwise operations."
   ]
  },
  {
   "cell_type": "code",
   "execution_count": null,
   "metadata": {},
   "outputs": [],
   "source": [
    "## Practice\n",
    "## What happens here\n",
    "\n",
    "[1,2] + [2,3]\n"
   ]
  },
  {
   "cell_type": "code",
   "execution_count": null,
   "metadata": {},
   "outputs": [],
   "source": [
    "## What about here?\n",
    "\n",
    "np.array([1,2]) + np.array([2,3])\n"
   ]
  },
  {
   "cell_type": "code",
   "execution_count": null,
   "metadata": {},
   "outputs": [],
   "source": [
    "## What happens here\n",
    "\n",
    "2 * [3,4]\n"
   ]
  },
  {
   "cell_type": "code",
   "execution_count": null,
   "metadata": {},
   "outputs": [],
   "source": [
    "## What about here?\n",
    "\n",
    "2*np.array([3,4])\n"
   ]
  },
  {
   "cell_type": "code",
   "execution_count": null,
   "metadata": {},
   "outputs": [],
   "source": [
    "# Okay how about\n",
    "\n",
    "y = 3*[1,2,3] + 2\n"
   ]
  },
  {
   "cell_type": "code",
   "execution_count": null,
   "metadata": {},
   "outputs": [],
   "source": [
    "# and this?\n",
    "\n",
    "y = 3*np.array([1,2,3]) + 2\n",
    "\n",
    "y\n"
   ]
  },
  {
   "cell_type": "code",
   "execution_count": null,
   "metadata": {},
   "outputs": [],
   "source": [
    "# There are even a number of popular built-in math functions for ndarray absolute value\n",
    "# This is the x from your earlier practice block\n",
    "\n",
    "np.abs(x)\n"
   ]
  },
  {
   "cell_type": "code",
   "execution_count": null,
   "metadata": {},
   "outputs": [],
   "source": [
    "# ... and square root\n",
    "\n",
    "np.sqrt(np.abs(x))\n"
   ]
  },
  {
   "cell_type": "code",
   "execution_count": null,
   "metadata": {},
   "outputs": [],
   "source": [
    "# ... and the floor function\n",
    "\n",
    "np.floor(x)"
   ]
  },
  {
   "cell_type": "code",
   "execution_count": null,
   "metadata": {},
   "outputs": [],
   "source": [
    "## Practice\n",
    "## using np.exp define y to be \n",
    "## e^(x+3) + log(|x|+1)\n",
    "\n",
    "\n",
    "\n"
   ]
  },
  {
   "cell_type": "markdown",
   "metadata": {},
   "source": [
    "### Pseudorandom ndarrays and Stat Functions\n",
    "\n",
    "`numpy` is useful for generating random numbers as well. We can look at common statistics of arrays too."
   ]
  },
  {
   "cell_type": "code",
   "execution_count": null,
   "metadata": {},
   "outputs": [],
   "source": [
    "# random generators are stored in np.random\n",
    "# a np.random.random() gives a uniform random number in [0,1]\n",
    "\n",
    "np.random.random()\n",
    "\n",
    "# execute this block a few times to confirm random outputs"
   ]
  },
  {
   "cell_type": "code",
   "execution_count": null,
   "metadata": {},
   "outputs": [],
   "source": [
    "# np.random.randn() is a normal(0,1) number\n",
    "# a single draw\n",
    "\n",
    "print(np.random.randn())\n",
    "print()\n",
    "\n",
    "# .. and for an an array of draws:\n",
    "\n",
    "np.random.randn(10,2)"
   ]
  },
  {
   "cell_type": "code",
   "execution_count": null,
   "metadata": {},
   "outputs": [],
   "source": [
    "# Task: make a 20 by 3 array of random normal draws and call it X for items in the next block\n",
    "\n"
   ]
  },
  {
   "cell_type": "code",
   "execution_count": null,
   "metadata": {},
   "outputs": [],
   "source": [
    "# We can use np.mean to get the overall array mean\n",
    "print(np.mean(X))\n",
    "print()\n",
    "\n",
    "# ... the row mean\n",
    "print(np.mean(X,axis=0))\n",
    "print()\n",
    "\n",
    "# ... or the column mean (again output as a row vector)\n",
    "print(np.mean(X,axis=1))"
   ]
  },
  {
   "cell_type": "markdown",
   "metadata": {},
   "source": [
    "### Linear Algebra with `numpy`\n",
    "\n",
    "A final important use for us is `numpy` as a way to perform linear algebra calculations."
   ]
  },
  {
   "cell_type": "code",
   "execution_count": null,
   "metadata": {},
   "outputs": [],
   "source": [
    "# We can think of a 2D array as a matrix\n",
    "\n",
    "A = np.random.binomial(n=4,p=.3,size=(2,2))\n",
    "\n",
    "A"
   ]
  },
  {
   "cell_type": "code",
   "execution_count": null,
   "metadata": {},
   "outputs": [],
   "source": [
    "# A 1d array can be a row vector\n",
    "\n",
    "x = np.array([1,2])\n",
    "x"
   ]
  },
  {
   "cell_type": "code",
   "execution_count": null,
   "metadata": {},
   "outputs": [],
   "source": [
    "# ... or a column vector\n",
    "\n",
    "x.reshape(-1,1)\n"
   ]
  },
  {
   "cell_type": "code",
   "execution_count": null,
   "metadata": {},
   "outputs": [],
   "source": [
    "# We can now calculate A*x\n",
    "# matrix.dot() is used for matrix multiplication\n",
    "\n",
    "A.dot(x.reshape(-1,1))\n"
   ]
  },
  {
   "cell_type": "code",
   "execution_count": null,
   "metadata": {},
   "outputs": [],
   "source": [
    "# Task: take the matrix B and multiply it with a column vector of 1s\n",
    "\n"
   ]
  },
  {
   "cell_type": "code",
   "execution_count": null,
   "metadata": {},
   "outputs": [],
   "source": [
    "# Dr. Robert Young, University of Maryland\n",
    "# In collaboration with Matthew Osborne, Erdos Institute\n",
    "# UMD FIRE Genome Computing"
   ]
  }
 ],
 "metadata": {
  "kernelspec": {
   "display_name": "Python 3 (ipykernel)",
   "language": "python",
   "name": "python3"
  },
  "language_info": {
   "codemirror_mode": {
    "name": "ipython",
    "version": 3
   },
   "file_extension": ".py",
   "mimetype": "text/x-python",
   "name": "python",
   "nbconvert_exporter": "python",
   "pygments_lexer": "ipython3",
   "version": "3.10.8"
  }
 },
 "nbformat": 4,
 "nbformat_minor": 2
}
