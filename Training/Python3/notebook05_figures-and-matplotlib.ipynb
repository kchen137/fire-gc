{
 "cells": [
  {
   "cell_type": "markdown",
   "metadata": {},
   "source": [
    "# UMD FIRE Stream- Genome Computing V\n",
    "## Figure Generation with `matplotlib`\n",
    "\n",
    "Here you will learn about working with vectors and matrices with the `matplotlib` module.\n",
    "\n",
    "In this notebook we will learn:\n",
    "<ul>\n",
    "    <li>how to make basic plots in matplotlib,</li>\n",
    "    <li>about the different plotting functionality</li>\n",
    "    <li>how to make figures with subplots</li>\n",
    "    <li>get practice plotting real data sets</li>\n",
    "</ul>"
   ]
  },
  {
   "cell_type": "code",
   "execution_count": null,
   "metadata": {},
   "outputs": [],
   "source": [
    "\n",
    "import numpy as np\n",
    "\n",
    "import pandas as pd\n"
   ]
  },
  {
   "cell_type": "markdown",
   "metadata": {},
   "source": [
    "# Basic Plotting\n",
    "\n",
    "A picture is worth a thousand words. Often times it is easier and more informative to plot the data we are examining then to rely on descriptive statistics alone. In this notebook we'll go over the minimal `python` plotting skills you'll need to get through this boot camp.\n",
    "\n",
    "## `matplotlib`\n",
    "\n",
    "A number of you have experience with MATLAB. `matplotlib` was a project started by John Hunter in 2002 to enable MATLAB like plotting in python. If you've done a lot of plotting in MATLAB matplotlib will come very naturally to you. If you've never even heard of MATLAB, don't worry! `matplotlib` is very intuitive and you'll be plotting like a pro in no time.\n",
    "\n",
    "Let's start by importing the package."
   ]
  },
  {
   "cell_type": "code",
   "execution_count": null,
   "metadata": {},
   "outputs": [],
   "source": [
    "# We will be using the pyplot subpackage\n",
    "# it is standard to call it plt\n",
    "\n",
    "import matplotlib.pyplot as plt\n"
   ]
  },
  {
   "cell_type": "markdown",
   "metadata": {},
   "source": [
    "### A First Plot\n",
    "\n",
    "Let's jump right in and make our first plot."
   ]
  },
  {
   "cell_type": "code",
   "execution_count": null,
   "metadata": {},
   "outputs": [],
   "source": [
    "# Here is some data in a list\n",
    "x = [0,1,2,3,4,5,6,7,8,9,10]\n",
    "\n",
    "# Here is more data, using list comprehension \n",
    "# for the formula: y = 2x-3\n",
    "y = [2*i - 3 for i in x]\n",
    "\n",
    "# plt.plot will make the plot\n",
    "# First put what you want on the x, then the y\n",
    "\n",
    "plt.plot(x,y)\n",
    "\n",
    "# Always end your plotting block with plt.show with interactive Python\n",
    "# this makes sure that the plot displays properly\n",
    "plt.show()\n",
    "\n",
    "# To help reduce the memory load, clear the figure\n",
    "plt.clf()\n"
   ]
  },
  {
   "cell_type": "markdown",
   "metadata": {},
   "source": [
    "### What Happened?\n",
    "\n",
    "So what happened when we ran the above code?\n",
    "\n",
    "`matplotlib` creates a figure object, and on that object it places a subplot object, and finally it places the points on the subplot then connects the points with straight lines.\n",
    "\n",
    "We'll return to the topic of subplots later in the notebook\n",
    "\n",
    "Now you try plotting the following `x` and `y`."
   ]
  },
  {
   "cell_type": "code",
   "execution_count": null,
   "metadata": {},
   "outputs": [],
   "source": [
    "# use np.linspace to make an evenly spaced list of numbers over a specified interval\n",
    "#    np.linspace(<start>, <stop>, <how many points>)\n",
    "x = 10*np.linspace(-5,5,100)\n",
    "\n",
    "# Plot function: y = x^2 - 3\n",
    "y = x**2 - 3\n"
   ]
  },
  {
   "cell_type": "code",
   "execution_count": null,
   "metadata": {},
   "outputs": [],
   "source": [
    "# Execute your plot here\n",
    "\n",
    "plt.plot(x,y)\n",
    "plt.show()\n",
    "plt.clf()\n"
   ]
  },
  {
   "cell_type": "markdown",
   "metadata": {},
   "source": [
    "### Getting More Control\n",
    "\n",
    "#### Making The Figure Object\n",
    "\n",
    "We can have more control over how the plot itself looks by creating the figure object ourselves."
   ]
  },
  {
   "cell_type": "code",
   "execution_count": null,
   "metadata": {},
   "outputs": [],
   "source": [
    "# plt.figure() will make the figure object\n",
    "#    -> figsize can control how large it is (width,height)\n",
    "\n",
    "plt.figure(figsize = (10,12))\n",
    "\n",
    "# Create the subplot object that we plot on\n",
    "plt.plot(x,y)\n",
    "\n",
    "# Add a title\n",
    "plt.title(\"A Plot Title v1\", fontsize = 20)\n",
    "\n",
    "plt.show()\n",
    "plt.clf()"
   ]
  },
  {
   "cell_type": "code",
   "execution_count": null,
   "metadata": {},
   "outputs": [],
   "source": [
    "# That's a big plot. Let's go smaller. Try (7,7). Let's also make the background color grey\n",
    "\n",
    "plt.figure(figsize = (   7,7  ), facecolor=\"grey\")\n",
    "\n",
    "plt.plot(x,y)\n",
    "\n",
    "# Add axis labels and control their fontsize\n",
    "plt.xlabel(\"x-axis\", fontsize = 16)\n",
    "plt.ylabel(\"y-axis\", fontsize = 16)\n",
    "\n",
    "# Make a new title\n",
    "plt.title(\"A Plot Title v2\", fontsize = 20)\n",
    "\n",
    "plt.show()\n",
    "plt.clf()\n",
    "\n",
    "# -!- notice how the background color is in the figure object and NOT in the subplot object"
   ]
  },
  {
   "cell_type": "code",
   "execution_count": null,
   "metadata": {},
   "outputs": [],
   "source": [
    "# Better, but not quite. Maybe wider is better than taller. Try 7,5, \n",
    "# a lighter shade of grey, \n",
    "# and let's try to fill out the subplot using \"tight_layout\"\n",
    "\n",
    "plt.figure(figsize = ( 7,5 ), \n",
    "           facecolor=\"lightgrey\", \n",
    "           tight_layout=True)\n",
    "# -!- A nice thing about objects and programming is that you can put parameters in as separate lines\n",
    "# as long as they are within parenthesis. It will still do everything you ask.\n",
    "\n",
    "plt.plot(x,y)\n",
    "\n",
    "plt.xlabel(\"x-axis\", fontsize = 16)\n",
    "plt.ylabel(\"y-axis\", fontsize = 16)\n",
    "\n",
    "# Let's add some limits to our x- and y-axes.\n",
    "plt.xlim((-20,20))\n",
    "plt.ylim(-100,100)\n",
    "\n",
    "# New title\n",
    "plt.title(\"A Plot Title v3\", fontsize = 20)\n",
    "\n",
    "plt.show()\n",
    "plt.clf()"
   ]
  },
  {
   "cell_type": "code",
   "execution_count": null,
   "metadata": {},
   "outputs": [],
   "source": [
    "# This looks ok. Let's save it!\n",
    "\n",
    "plt.figure(figsize = ( 7,5 ), \n",
    "           facecolor=\"lightgrey\", \n",
    "           edgecolor=\"red\",\n",
    "           tight_layout=True)\n",
    "\n",
    "plt.plot(x,y)\n",
    "\n",
    "plt.xlabel(\"x-axis\", fontsize = 16)\n",
    "plt.ylabel(\"y-axis\", fontsize = 16)\n",
    "plt.xlim((-20,20))\n",
    "plt.ylim(-100,100)\n",
    "\n",
    "plt.title(\"A Plot Title v3\", fontsize = 20)\n",
    "\n",
    "plt.show()\n",
    "plt.savefig(\"My_First_Figure.png\")\n",
    "plt.clf()"
   ]
  },
  {
   "cell_type": "code",
   "execution_count": null,
   "metadata": {},
   "outputs": [],
   "source": [
    "# -!- Hold up!\n",
    "# Why is your figure empty? \n",
    "\n",
    "# Because the order of the view matters. \n",
    "\n",
    "# If you want to both save locally AND view in the notebook, save FIRST, then view. Not the other way around\n",
    "\n",
    "# Save the above figure by putting the code under here:\n",
    "\n",
    "\n",
    "\n",
    "\n"
   ]
  },
  {
   "cell_type": "markdown",
   "metadata": {},
   "source": [
    "#### Controlling How the Plotted Data Looks\n",
    "\n",
    "We can control the appearance of what is plotted. Here's a quick cheatsheet of easy to use options:\n",
    "\n",
    "\n",
    "\n",
    "| Color           | Description  |\n",
    "| :-------------: |:------------:|\n",
    "| r               | red          |\n",
    "| b               | blue         |\n",
    "| k               | black        |\n",
    "| g               | green        |\n",
    "| y               | yellow       |\n",
    "| m               | magenta      |\n",
    "| c               | cyan         |\n",
    "| w               | white        |\n",
    "\n",
    "|Line Style | Description   |\n",
    "|:---------:|:-------------:|\n",
    "| -         | Solid line    |\n",
    "| --        | Dashed line   |\n",
    "| :         | Dotted line   |\n",
    "| -.        | Dash-dot line |\n",
    "\n",
    "| Marker | Description    |\n",
    "|:------:|:--------------:|\n",
    "|o       | Circle         |\n",
    "|+       | Plus Sign      |\n",
    "|*       | Asterisk       |\n",
    "|.       | Point          |\n",
    "| x      | Cross          |\n",
    "| s      | Square         |\n",
    "|d       | Diamond        |\n",
    "|^       | Up Triangle    |\n",
    "|<       | Right Triangle |\n",
    "|>       | Left Triangle  |\n",
    "|p       | Pentagram      |\n",
    "| h      | hexagram       |\n"
   ]
  },
  {
   "cell_type": "code",
   "execution_count": null,
   "metadata": {},
   "outputs": [],
   "source": [
    "# Let's now plot 2 sets of data on the same object\n",
    "\n",
    "plt.figure(figsize = (8,5))\n",
    "\n",
    "# First, make our plot of magenta pentagrams \n",
    "# -!- We will add a LABEL so we can add a legend to the plot\n",
    "plt.plot(x, y,\n",
    "         'mp', \n",
    "         label=\"points\")\n",
    "\n",
    "# Take the x and y data and shift it, using a green dashed line\n",
    "plt.plot(x+10,\n",
    "         y-100,\n",
    "         'g--', \n",
    "         label=\"shifted line\")\n",
    "\n",
    "# Add axis labels and a title that simply says \"Data and its Shift\"\n",
    "plt.xlabel(\"\", fontsize = 16)\n",
    "plt.ylabel(\"\", fontsize = 16)\n",
    "plt.title(\" \", fontsize = 20)\n",
    "\n",
    "# plt.legend() adds the legend to the plot\n",
    "plt.legend(fontsize=14)\n",
    "\n",
    "\n",
    "plt.show()\n",
    "plt.clf()"
   ]
  },
  {
   "cell_type": "code",
   "execution_count": null,
   "metadata": {},
   "outputs": [],
   "source": [
    "# Work with new data\n",
    "\n",
    "x = 10*np.random.random(100) - 5\n",
    "\n",
    "y = x**3 - x**2 + x\n",
    "\n",
    "print(x)\n",
    "print()\n",
    "print(y)"
   ]
  },
  {
   "cell_type": "code",
   "execution_count": null,
   "metadata": {},
   "outputs": [],
   "source": [
    "# Make a 10x5 figure object\n",
    "# Plot the raw data in black circles with label \"raw data\"\n",
    "# Plot a shift in x by +10 in blue squares with label \"shift in x\"\n",
    "# Plot a separate shift in y by +10 in red squares with label \"shift in y\"\n",
    "# Plot a shift in both x and y by +10 in green pentagons with label \"shift in x and y\"\n",
    "# No chart title\n",
    "# and label your axes\n",
    "\n",
    "plt.figure(figsize=(10,5))\n",
    "\n",
    "plt.plot(x,\n",
    "         y, \n",
    "         'ko', \n",
    "         label='')\n",
    "\n",
    "plt.plot()\n",
    "\n",
    "plt.plot()\n",
    "\n",
    "plt.plot()\n",
    "\n",
    "plt.xlim(-15, 15)\n",
    "plt.ylim(-150,150)\n",
    "\n",
    "plt.xlabel()\n",
    "plt.ylabel()\n",
    "plt.legend()\n",
    "\n",
    "plt.show()\n",
    "plt.clf()\n"
   ]
  },
  {
   "cell_type": "markdown",
   "metadata": {},
   "source": [
    "### Subplots\n",
    "\n",
    "What if we want to plot more than one thing in the same figure? We'll want to make some subplots."
   ]
  },
  {
   "cell_type": "code",
   "execution_count": null,
   "metadata": {},
   "outputs": [],
   "source": [
    "# plt.subplots makes a figure object then populates it with subplots\n",
    "\n",
    "fig, axes = plt.subplots(2, 2, figsize = (8,8))\n",
    "\n",
    "# the first number is the number of rows, the second number is the number of columns\n",
    "# so this makes a 2 by 2 subplot matrix\n",
    "\n",
    "# 'fig' is the figure object while 'axes' is a matrix containing the four subplots\n",
    "\n",
    "\n",
    "\n",
    "# We can plot like before but instead of plt.plot we use axes[i,j].plot\n",
    "# Notice that this using index notation. \n",
    "# Thus, [0,0] will be the subplot at the top row, first column\n",
    "# and [1,1] will be the bottom row subplot in the second column\n",
    "\n",
    "\n",
    "# Plot a \"random walk\" on axes[0,0] in a red dashed line\n",
    "axes[0,0].plot(np.random.randn(20).cumsum(),\n",
    "               'r--')\n",
    "\n",
    "# Set the x and y labels on that individual subplot:\n",
    "axes[0,0].set_xlabel(\"X\")\n",
    "axes[0,0].set_ylabel(\"y\")\n",
    "\n",
    "\n",
    "# .hist() plots a histogram which is a bar plot that shows the distribution of data, \n",
    "# which you can control the number of bins with 'bins'\n",
    "axes[0,1].hist(np.random.randn(1000), \n",
    "               bins = 50)\n",
    "\n",
    "# .scatter() is a quicker way to produce a scatter plot\n",
    "axes[1,0].scatter(x=np.random.random(20), \n",
    "                  y=np.random.randn(20),\n",
    "                  color = 'g')\n",
    "\n",
    "# Some text on axes[1,1]\n",
    "axes[1,1].text(0.2, 0.5, \"Fear the Turtle\", fontsize = 14)\n",
    "\n",
    "\n",
    "plt.show()\n",
    "plt.clf()"
   ]
  },
  {
   "cell_type": "markdown",
   "metadata": {},
   "source": [
    "Now you practice!"
   ]
  },
  {
   "cell_type": "code",
   "execution_count": null,
   "metadata": {},
   "outputs": [],
   "source": [
    "# Here is some random data for you\n",
    "\n",
    "x1 = 2*np.random.randn(500) + 3\n",
    "x2 =   np.random.randn(500) + 4\n",
    "\n",
    "# use function y = x1 + x1^2 + log(x2) +1/2*(C), with C = some constant number\n",
    "y = x1 + x1**2 + np.log(x2) + 0.5*np.random.randn(500)\n"
   ]
  },
  {
   "cell_type": "code",
   "execution_count": null,
   "metadata": {},
   "outputs": [],
   "source": [
    "# Make a 3 by 3 subplot (a total of 9 figures) with a square figure size that big enough to view all 9 figures\n",
    "\n",
    "# Plot histograms of x1, x2, and y along the diagonal\n",
    "# Plot (x1 vs x2) and (x1 vs y) scatterplots in the remaining columns of the top row\n",
    "# plot (x2 vs y) scatterplot in the second row 3rd column\n",
    "\n",
    "\n",
    "fig, axes = plt.subplots( figsize = (    ))\n",
    "\n",
    "\n",
    "# Below are the 9 subplots. For any subplot you will NOT use, comment that line out; do not delete\n",
    "axes[0,0].\n",
    "axes[0,1].\n",
    "axes[0,2].\n",
    "axes[1,0].\n",
    "axes[1,1].\n",
    "axes[1,2].\n",
    "axes[0,2].\n",
    "axes[1,2].\n",
    "axes[2,2].\n",
    "\n",
    "\n",
    "# For any subplot you did NOT use, place text in the subplot that says \"No data here\"\n",
    ".text(0.2, 0.5, \"No data here\", fontsize = 14)\n",
    "\n",
    "\n",
    "plt.show()\n",
    "plt.clf()\n"
   ]
  },
  {
   "cell_type": "markdown",
   "metadata": {},
   "source": [
    "### Plotting Data\n",
    "\n",
    "Finally we'll see how we can use `matplotlib` to examine some real data.\n",
    "\n",
    "#### Test Parameter File\n",
    "\n",
    "We are going to work with a 141-bp nucleosome parameter file that contains 6 base pair and 6 base-pairs step parameter values"
   ]
  },
  {
   "cell_type": "code",
   "execution_count": null,
   "metadata": {},
   "outputs": [],
   "source": [
    "# Read the data in a pandas dataframes\n",
    "\n",
    "pars = pd.read_csv(\"datafiles/test_dnapar.par\", \n",
    "                   skiprows=2, \n",
    "                   sep='\\s+')\n",
    "\n"
   ]
  },
  {
   "cell_type": "code",
   "execution_count": null,
   "metadata": {},
   "outputs": [],
   "source": [
    "pars.tail()"
   ]
  },
  {
   "cell_type": "code",
   "execution_count": null,
   "metadata": {},
   "outputs": [],
   "source": [
    "# Start by making a line plot of the shear, stretch, and stagger parameters along the fragment\n",
    "# Make a 3x1 subplot, making sure that the figure has the \"tight_layout\" active\n",
    "# For each subplot, set the y-limits to -/+1.5 , the x-limits from 0 to the length of the dataframe, and turn gridlines on\n",
    "\n",
    "fig , axes = plt.subplots(3, 1, figsize=(8,6), tight_layout=True)\n",
    "\n",
    "#Make a list of values to be used as the x-axis, based on the length of the parameter chain\n",
    "xs = \n",
    "\n",
    "axes[0].plot()\n",
    "axes[0].set_ylabel(\"Shear\")\n",
    "\n",
    "axes[1].plot()\n",
    "axes[1].set_ylabel(\"Stretch\")\n",
    "\n",
    "\n",
    "axes[2].plot()\n",
    "axes[2].set_ylabel(\"Stagger\")\n",
    "\n",
    "\n",
    "# Loops can be used to set some axis-specific settings based on indexing\n",
    "for i in [0,1,2]:\n",
    "    axes[i].\n",
    "    axes[i].\n",
    "    axes[i].\n",
    "    \n",
    "plt.show()\n",
    "plt.clf()\n",
    "del xs"
   ]
  },
  {
   "cell_type": "code",
   "execution_count": null,
   "metadata": {},
   "outputs": [],
   "source": [
    "# Make the scatterplot with 1 subplot \n",
    "# Plot the tilt vs. roll data in blue circles\n",
    "# Plot the twist vs. roll data in red squares\n",
    "# Let the Roll parameter be the x-axis\n",
    "# Note: These are base-pair STEP parameters, so the first line of data are 0s. You should not plot these\n",
    "\n",
    "plt.figure(figsize=(8,8))\n",
    "\n",
    "plt.scatter(#pars.Roll[1:], \n",
    "            #pars.Tilt[1:],\n",
    "            #marker='o',\n",
    "            #color=\"blue\",\n",
    "            #label=\"Roll v. Tilt\",\n",
    "            \n",
    "            # We will add two new methods to customize:\n",
    "            # add an edgecolor to all of the datapoints\n",
    "            edgecolor=\"black\", \n",
    "            \n",
    "            # Make the datapoints more transparent with alpha, from 0-1 (lower number = more transparent)\n",
    "            alpha=0.5)\n",
    "\n",
    "plt.scatter(pars.Roll[1:], \n",
    "            pars.Twist[1:],\n",
    "            marker='s',\n",
    "            color=\"red\",\n",
    "            label=\"Roll v. Twist\",\n",
    "            edgecolor=\"black\", \n",
    "            alpha=0.5)\n",
    "plt.legend()\n",
    "\n",
    "plt.show()\n",
    "plt.clf()"
   ]
  },
  {
   "cell_type": "code",
   "execution_count": null,
   "metadata": {},
   "outputs": [],
   "source": [
    "# Make 2 histograms of the three rotation base-pair step parameters\n",
    "# Make 1 of a bin size of 10, make the other of a bin size of 25\n",
    "# Add y labels to indicate which parameter is used\n",
    "# Note: These are base-pair STEP parameters, so the first line of data are 0s. You should not plot these\n",
    "\n",
    "\n",
    "fig, axes = plt.subplots(3, 1, figsize=(6,6), tight_layout=True)\n",
    "\n",
    "bin_size=10\n",
    "axes[0].hist(bins=bin_size)\n",
    "axes[1].hist(   )\n",
    "axes[2].hist(   )\n",
    "del bin_size\n",
    "\n",
    "plt.show()\n",
    "plt.clf()\n",
    "\n",
    "\n",
    "fig, axes = plt.subplots(3, 1, figsize=(6,6), tight_layout=True)\n",
    "\n",
    "bin_size=25\n",
    "\n",
    "\n",
    "\n",
    "del bin_size\n",
    "\n",
    "plt.show()\n",
    "plt.clf()"
   ]
  },
  {
   "cell_type": "code",
   "execution_count": null,
   "metadata": {},
   "outputs": [],
   "source": [
    "# Finally, we can make figures that help with statistical information, such as a Box & Whisker Plot.\n",
    "\n",
    "# A box plot shows the Inter-quartile range of the data, the median of the parameter, and any outliers \n",
    "# Lets look at the Box plot for the Prop-Tw parameter:\n",
    "\n",
    "fig = plt.figure()\n",
    "\n",
    "plt.boxplot(pars.Roll[1:], \n",
    "            \n",
    "            # Label the axis\n",
    "            labels=[\"Prop-Tw\"], \n",
    "            \n",
    "            # There is a 'vert' option if you want the box to sit horizontally or vertically\n",
    "            vert=False)\n",
    "\n",
    "plt.show()\n",
    "plt.clf()"
   ]
  },
  {
   "cell_type": "code",
   "execution_count": null,
   "metadata": {},
   "outputs": [],
   "source": [
    "# We can use selection options with Pandas to organize the data based on base pair sequence\n",
    "\n",
    "fig = plt.figure()\n",
    "\n",
    "plt.boxplot([pars['Prop-Tw'].loc[pars['#']=='A-T'], \n",
    "             pars['Prop-Tw'].loc[pars['#']=='T-A'], \n",
    "             pars['Prop-Tw'].loc[pars['#']=='G-C'], \n",
    "             pars['Prop-Tw'].loc[pars['#']=='C-G']], \n",
    "            labels=[\"A-T Base Pair\", \"T-A Base Pair\", \"G-C Base Pair\", \"C-G Base Pair\"], \n",
    "            vert=False)\n",
    "\n",
    "\n",
    "plt.show()\n",
    "plt.clf()"
   ]
  },
  {
   "cell_type": "code",
   "execution_count": null,
   "metadata": {},
   "outputs": [],
   "source": [
    "# Make 2 box plots for all base-pair step parameters, split up based on motion type (rotational and translational)\n",
    "\n",
    "fig, axes = plt.subplots(1, 2, figsize=(6,3), tight_layout=True)\n",
    "\n",
    "axes[0].boxplot()\n",
    "            \n",
    "axes[1].boxplot()\n",
    "\n",
    "plt.show()\n",
    "plt.clf()"
   ]
  },
  {
   "cell_type": "markdown",
   "metadata": {},
   "source": [
    "## Advanced: Plotting the test_dnarefframe.dat file"
   ]
  },
  {
   "cell_type": "markdown",
   "metadata": {},
   "source": [
    "We have worked with the all-atom .pdb files and the parametric .par files\n",
    "\n",
    "In order to make base pair and base-pair steps, we need a set of reference frame data.\n",
    "\n",
    "A refframe frame has 5 lines for every base-pair\n",
    " line 1:   the nucleotide base-pair\n",
    " line 2:   the base-pair origin in (x, y, z)\n",
    " line 3-5: the three unit vectors that describe the orientation of the reference frame\n",
    "\n",
    "This is an advanced task because you first need to go through the file and store only the origin values into a dataframe with x, y, and z column labels\n"
   ]
  },
  {
   "cell_type": "code",
   "execution_count": null,
   "metadata": {},
   "outputs": [],
   "source": [
    "# Load and organize your data\n",
    "\n",
    "\n",
    "\n"
   ]
  },
  {
   "cell_type": "code",
   "execution_count": null,
   "metadata": {},
   "outputs": [],
   "source": [
    "## Create a 3-D scatter plot of this dataframe\n",
    "\n",
    "\n",
    "\n",
    "\n"
   ]
  },
  {
   "cell_type": "code",
   "execution_count": null,
   "metadata": {},
   "outputs": [],
   "source": [
    "# You can calculate the Euclidian distance of each origin relative to another\n",
    "# This can be done using a specific module:\n",
    "\n",
    "from scipy.spatial import distance \n",
    "\n",
    "# in this is a function: pdist()\n",
    "\n",
    "# Look up information on pdist() here: https://docs.scipy.org/doc/scipy/reference/spatial.distance.html\n",
    "\n",
    "# Calculate the pdist of the refframe origins and then create a heatmap plot\n",
    "# This plot will be a square plot that shows different colors based on how close or how far two points are\n",
    "\n",
    "# Finally, save the image as a .png file\n",
    "\n",
    "\n",
    "\n",
    "\n"
   ]
  },
  {
   "cell_type": "code",
   "execution_count": 1,
   "metadata": {},
   "outputs": [],
   "source": [
    "# Dr. Robert Young, University of Maryland\n",
    "# In collaboration with Matthew Osborne, Erdos Institute\n",
    "# UMD FIRE Genome Computing"
   ]
  }
 ],
 "metadata": {
  "kernelspec": {
   "display_name": "Python 3 (ipykernel)",
   "language": "python",
   "name": "python3"
  },
  "language_info": {
   "codemirror_mode": {
    "name": "ipython",
    "version": 3
   },
   "file_extension": ".py",
   "mimetype": "text/x-python",
   "name": "python",
   "nbconvert_exporter": "python",
   "pygments_lexer": "ipython3",
   "version": "3.9.16"
  }
 },
 "nbformat": 4,
 "nbformat_minor": 2
}
