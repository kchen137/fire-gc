{
 "cells": [
  {
   "cell_type": "markdown",
   "metadata": {},
   "source": [
    "# UMD FIRE Stream- Genome Computing I\n",
    "## Basic Python\n",
    "\n",
    "Hi there!\n",
    "\n",
    "Welcome to the first of a series of tutorials designed to introduce you to Python programming.There are numerous programming languages with pros and cons to each. For much of scientific programming, you will commonly see either C++, Python, MatLab, R, or Mathematica.\n",
    "\n",
    "The key to scientific computing is that you <b>do not have to be an expert coder</b> to use any programming language for your work.\n",
    "\n",
    "\n",
    "Most programming is executed or run at the command line. Here, with notebooks like Jupyter, we will utilize a live kernal to code. Jupyter notebooks are nice for exploring and teaching `python`. This is because you can have chunks where you write something like this block. Use of a notebook allows for <i>live coding</i>, where you can write and execute code without writing a script and using command line.\n",
    "\n",
    "\n",
    "The most common exercise the start a coding language is having you code an output \"Hello World\"\n"
   ]
  },
  {
   "cell_type": "code",
   "execution_count": 1,
   "metadata": {},
   "outputs": [
    {
     "name": "stdout",
     "output_type": "stream",
     "text": [
      "Hello World!\n"
     ]
    }
   ],
   "source": [
    "# In python scripting whenever you see '#', you are \"commenting out\" words and phrases. \n",
    "# These are usually descriptions or old code you do not run.\n",
    "\n",
    "# In order to see text as an output, you will need to print the text. So, in Python3, you simply do the following\n",
    "\n",
    "print(\"Hello World!\")\n",
    "\n",
    "# To EXECUTE a code block in Jupyter Notebooks, you hit SHIFT+ENTER or SHIFT+RETURN\n"
   ]
  },
  {
   "cell_type": "markdown",
   "metadata": {},
   "source": [
    "This is your first line of code. Congrats.\n",
    "\n",
    "Now there are many many many intro to `python` materials on the web. \n",
    "So instead of making something from scratch we'll have you use an existing resouce. \n",
    "Work your way through the Python Tutorial at W3 Schools, <a href = \"https://www.w3schools.com/python/default.asp\">https://www.w3schools.com/python/default.asp</a>. \n",
    "Start at Python Intro and stop at Python String Formatting.\n",
    "\n",
    "However, there are a few things that I want to highlight from this website"
   ]
  },
  {
   "cell_type": "markdown",
   "metadata": {
    "jp-MarkdownHeadingCollapsed": true,
    "tags": []
   },
   "source": [
    "## Variables"
   ]
  },
  {
   "cell_type": "markdown",
   "metadata": {
    "jp-MarkdownHeadingCollapsed": true,
    "tags": []
   },
   "source": [
    "Variables are containers for storing data values.\n",
    "\n",
    "Unlike other programming languages, Python has no command for declaring a variable.\n",
    "\n",
    "A variable is created the moment you first assign a value to it."
   ]
  },
  {
   "cell_type": "code",
   "execution_count": 2,
   "metadata": {},
   "outputs": [
    {
     "name": "stdout",
     "output_type": "stream",
     "text": [
      "5\n",
      "John\n"
     ]
    }
   ],
   "source": [
    "x = 5\n",
    "y = \"John\"\n",
    "\n",
    "print(x)\n",
    "\n",
    "print(y)\n"
   ]
  },
  {
   "cell_type": "code",
   "execution_count": 3,
   "metadata": {},
   "outputs": [
    {
     "name": "stdout",
     "output_type": "stream",
     "text": [
      "4\n"
     ]
    }
   ],
   "source": [
    "# If you do not pay attention, you can override variable naming\n",
    "\n",
    "x = 4    # x is of type int\n",
    "\n",
    "print(x)\n"
   ]
  },
  {
   "cell_type": "markdown",
   "metadata": {},
   "source": [
    "Naming variables (and files and directories) is a very important piece of your work, so make sure you balance ease with specificity.\n",
    "\n",
    "You <b>cannot</b> use ' ', '-', or names that start with a value as a variable name.\n",
    "\n",
    "Legal variable names:\n",
    "<li>myvar = \"John\"</li> \n",
    "<li>my_var = \"John\"</li> \n",
    "<li>_my_var = \"John\"</li> \n",
    "<li>myVar = \"John\"</li>\n",
    "<li>MYVAR = \"John\"</li>\n",
    "<li>myvar2 = \"John\"</li>\n",
    "\n",
    "Illegal variable names:\n",
    "<li>2myvar = \"John\"</li>\n",
    "<li>my-var = \"John\"</li>\n",
    "<li>my var = \"John\"</li>"
   ]
  },
  {
   "cell_type": "code",
   "execution_count": 4,
   "metadata": {},
   "outputs": [
    {
     "name": "stdout",
     "output_type": "stream",
     "text": [
      "Sally\n"
     ]
    }
   ],
   "source": [
    "x = \"Sally\" \n",
    "\n",
    "# x is now of type str\n",
    "# also, the variable 'x' will now be over-ridden from the previous code block\n",
    "\n",
    "print(x)\n"
   ]
  },
  {
   "cell_type": "code",
   "execution_count": 5,
   "metadata": {},
   "outputs": [
    {
     "name": "stdout",
     "output_type": "stream",
     "text": [
      "Orange\n",
      "Banana\n",
      "Cherry\n",
      "\n",
      "My grocery list includes Orange, Banana, and Cherry candies.\n"
     ]
    }
   ],
   "source": [
    "# Python allows you to assign values to multiple variables in one line:\n",
    "\n",
    "x, y, z = \"Orange\", \"Banana\", \"Cherry\"\n",
    "\n",
    "print(x)\n",
    "\n",
    "print(y)\n",
    "\n",
    "print(z)\n",
    "\n",
    "print( )  # I can print an empty space if needed\n",
    "\n",
    "# The Python print statement is often used to output variables.\n",
    "# To combine both text and a variable, Python uses the + character:\n",
    "\n",
    "print(\"My grocery list includes \" + x + \", \" + y + \", and \" + z + \" candies.\")"
   ]
  },
  {
   "cell_type": "markdown",
   "metadata": {
    "jp-MarkdownHeadingCollapsed": true,
    "tags": []
   },
   "source": [
    "## Built-in Data Types"
   ]
  },
  {
   "cell_type": "markdown",
   "metadata": {
    "jp-MarkdownHeadingCollapsed": true,
    "tags": []
   },
   "source": [
    "In programming, data type is an important concept.\n",
    "\n",
    "Variables can store data of different types, and different types can do different things.\n",
    "\n",
    "Python has the following data types built-in by default, in these categories:\n",
    "\n",
    "Text Type:\tstr  \n",
    "Numeric Types:\tint, float, complex  \n",
    "Sequence Types:\tlist, tuple, range  \n",
    "Mapping Type:\tdict  \n",
    "Set Types:\tset, frozenset  \n",
    "Boolean Type:\tbool  \n",
    "Binary Types:\tbytes, bytearray, memoryview  "
   ]
  },
  {
   "cell_type": "code",
   "execution_count": 6,
   "metadata": {},
   "outputs": [
    {
     "name": "stdout",
     "output_type": "stream",
     "text": [
      "<class 'int'>\n",
      "<class 'float'>\n",
      "<class 'complex'>\n"
     ]
    }
   ],
   "source": [
    "# You can get the data type of any object by using the type() function:\n",
    "x = 5\n",
    "print(type(x))\n",
    "\n",
    "x = 5.0\n",
    "print(type(x))\n",
    "\n",
    "x = 5.0j\n",
    "print(type(x))\n"
   ]
  },
  {
   "cell_type": "code",
   "execution_count": 7,
   "metadata": {},
   "outputs": [
    {
     "name": "stdout",
     "output_type": "stream",
     "text": [
      "<class 'bool'>\n"
     ]
    },
    {
     "ename": "NameError",
     "evalue": "name 'true' is not defined",
     "output_type": "error",
     "traceback": [
      "\u001b[0;31m---------------------------------------------------------------------------\u001b[0m",
      "\u001b[0;31mNameError\u001b[0m                                 Traceback (most recent call last)",
      "Cell \u001b[0;32mIn[7], line 7\u001b[0m\n\u001b[1;32m      4\u001b[0m x \u001b[38;5;241m=\u001b[39m \u001b[38;5;28;01mTrue\u001b[39;00m\n\u001b[1;32m      5\u001b[0m \u001b[38;5;28mprint\u001b[39m(\u001b[38;5;28mtype\u001b[39m(x))\n\u001b[0;32m----> 7\u001b[0m x \u001b[38;5;241m=\u001b[39m \u001b[43mtrue\u001b[49m\n\u001b[1;32m      8\u001b[0m \u001b[38;5;28mprint\u001b[39m(\u001b[38;5;28mtype\u001b[39m(x))\n",
      "\u001b[0;31mNameError\u001b[0m: name 'true' is not defined"
     ]
    }
   ],
   "source": [
    "# There is a difference in True/False and true/false.\n",
    "# Booleans must always be capitilized\n",
    "\n",
    "x = True\n",
    "print(type(x))\n",
    "\n",
    "x = true\n",
    "print(type(x))"
   ]
  },
  {
   "cell_type": "markdown",
   "metadata": {},
   "source": [
    "There are three numeric types in Python:\n",
    "\n",
    "int  \n",
    "float  \n",
    "complex  \n",
    "\n",
    "\n",
    "Variables of numeric types are created when you assign a value to them.\n",
    "You can convert from one type to another with the int(), float(), and complex() methods:  "
   ]
  },
  {
   "cell_type": "code",
   "execution_count": 8,
   "metadata": {},
   "outputs": [
    {
     "name": "stdout",
     "output_type": "stream",
     "text": [
      "1.0\n",
      "<class 'float'>\n",
      "\n",
      "2\n",
      "<class 'int'>\n",
      "\n",
      "(1+0j)\n",
      "<class 'complex'>\n",
      "\n"
     ]
    }
   ],
   "source": [
    "x = 1    # int\n",
    "y = 2.8  # float\n",
    "z = 1j   # complex\n",
    "\n",
    "#convert from int to float:\n",
    "a = float(x)\n",
    "\n",
    "#convert from float to int:\n",
    "b = int(y)\n",
    "\n",
    "#convert from int to complex:\n",
    "c = complex(x)\n",
    "\n",
    "# ------------------------------------------------\n",
    "# FILL IN THE PRINT FUNCTIONS\n",
    "\n",
    "# print both 'a' and print the type of 'a'\n",
    "print(a)\n",
    "print(type(a))\n",
    "print()\n",
    "\n",
    "# repeat for 'b' and 'c'\n",
    "\n",
    "print(b)\n",
    "print(type(b))\n",
    "print()\n",
    "print(c)\n",
    "print(type(c))\n",
    "print()"
   ]
  },
  {
   "cell_type": "markdown",
   "metadata": {
    "jp-MarkdownHeadingCollapsed": true,
    "tags": []
   },
   "source": [
    "## Python Operators"
   ]
  },
  {
   "cell_type": "markdown",
   "metadata": {
    "jp-MarkdownHeadingCollapsed": true,
    "tags": []
   },
   "source": [
    "Operators are used to perform operations on variables and values. But pay attention: values used MUST share data types and some cannot work with int types\n",
    "\n",
    "|Operator|Name|Example|\n",
    "|----|----|----|\n",
    "|+|\tAddition |\tx + y |\t\n",
    "|-|\tSubtraction |\tx - y |\t\n",
    "|*|\tMultiplication |\tx * y\t|\n",
    "|/|\tDivision |\tx / y\t|\n",
    "|%|\tModulus |\tx % y\t|\n",
    "|**|\tExponentiation |\tx ** y\t|\n",
    "|//|\tFloor division |\tx // y |\n",
    "\n",
    "\n",
    "Bookmark this website and re-visit often: https://www.w3schools.com/python/python_operators.asp"
   ]
  },
  {
   "cell_type": "code",
   "execution_count": 9,
   "metadata": {},
   "outputs": [
    {
     "data": {
      "text/plain": [
       "19.04"
      ]
     },
     "execution_count": 9,
     "metadata": {},
     "output_type": "execute_result"
    }
   ],
   "source": [
    "14.04 + 5.0"
   ]
  },
  {
   "cell_type": "code",
   "execution_count": 10,
   "metadata": {},
   "outputs": [
    {
     "data": {
      "text/plain": [
       "9.04"
      ]
     },
     "execution_count": 10,
     "metadata": {},
     "output_type": "execute_result"
    }
   ],
   "source": [
    "14.04 - 5.0"
   ]
  },
  {
   "cell_type": "code",
   "execution_count": 11,
   "metadata": {},
   "outputs": [
    {
     "data": {
      "text/plain": [
       "2.808"
      ]
     },
     "execution_count": 11,
     "metadata": {},
     "output_type": "execute_result"
    }
   ],
   "source": [
    "14.04 / 5.0"
   ]
  },
  {
   "cell_type": "code",
   "execution_count": 12,
   "metadata": {},
   "outputs": [
    {
     "data": {
      "text/plain": [
       "4.039999999999999"
      ]
     },
     "execution_count": 12,
     "metadata": {},
     "output_type": "execute_result"
    }
   ],
   "source": [
    "14.04 % 5.0"
   ]
  },
  {
   "cell_type": "code",
   "execution_count": 13,
   "metadata": {},
   "outputs": [
    {
     "data": {
      "text/plain": [
       "547496.8454378126"
      ]
     },
     "execution_count": 13,
     "metadata": {},
     "output_type": "execute_result"
    }
   ],
   "source": [
    "14.05 ** 5.0"
   ]
  },
  {
   "cell_type": "code",
   "execution_count": 14,
   "metadata": {},
   "outputs": [],
   "source": [
    "x = 5.00\n",
    "y = 12.98\n",
    "\n",
    "A = x + y\n",
    "B = x - y \n",
    "C = x * y"
   ]
  },
  {
   "cell_type": "code",
   "execution_count": 15,
   "metadata": {},
   "outputs": [
    {
     "name": "stdout",
     "output_type": "stream",
     "text": [
      "17.98\n",
      "-7.98\n",
      "64.9\n"
     ]
    }
   ],
   "source": [
    "print(A)\n",
    "del A\n",
    "\n",
    "print(B)\n",
    "del B\n",
    "\n",
    "print(C)\n",
    "del C"
   ]
  },
  {
   "cell_type": "code",
   "execution_count": 16,
   "metadata": {},
   "outputs": [
    {
     "ename": "TypeError",
     "evalue": "can only concatenate str (not \"float\") to str",
     "output_type": "error",
     "traceback": [
      "\u001b[0;31m---------------------------------------------------------------------------\u001b[0m",
      "\u001b[0;31mTypeError\u001b[0m                                 Traceback (most recent call last)",
      "Cell \u001b[0;32mIn[16], line 6\u001b[0m\n\u001b[1;32m      3\u001b[0m x \u001b[38;5;241m=\u001b[39m \u001b[38;5;124m\"\u001b[39m\u001b[38;5;124m5\u001b[39m\u001b[38;5;124m\"\u001b[39m\n\u001b[1;32m      4\u001b[0m y \u001b[38;5;241m=\u001b[39m \u001b[38;5;28mfloat\u001b[39m(\u001b[38;5;241m12.98\u001b[39m)\n\u001b[0;32m----> 6\u001b[0m A \u001b[38;5;241m=\u001b[39m \u001b[43mx\u001b[49m\u001b[43m \u001b[49m\u001b[38;5;241;43m+\u001b[39;49m\u001b[43m \u001b[49m\u001b[43my\u001b[49m\n\u001b[1;32m      7\u001b[0m B \u001b[38;5;241m=\u001b[39m x \u001b[38;5;241m-\u001b[39m y \n\u001b[1;32m      8\u001b[0m C \u001b[38;5;241m=\u001b[39m x \u001b[38;5;241m*\u001b[39m y\n",
      "\u001b[0;31mTypeError\u001b[0m: can only concatenate str (not \"float\") to str"
     ]
    }
   ],
   "source": [
    "# You do NOT have to work with only values, you can use variables in your operations!\n",
    "\n",
    "x = \"5\"\n",
    "y = float(12.98)\n",
    "\n",
    "A = x + y\n",
    "B = x - y \n",
    "C = x * y\n",
    "\n",
    "print(A)\n",
    "print(B)\n",
    "print(C)\n",
    "del A, B, C"
   ]
  },
  {
   "cell_type": "code",
   "execution_count": 17,
   "metadata": {},
   "outputs": [
    {
     "name": "stdout",
     "output_type": "stream",
     "text": [
      "17.98\n",
      "-7.98\n",
      "64.9\n"
     ]
    }
   ],
   "source": [
    "# There is an error in the above block. Copy the above block below and fix what is the issue from the TypeError output:\n",
    "\n",
    "x = 5\n",
    "y = float(12.98)\n",
    "\n",
    "A = x + y\n",
    "B = x - y \n",
    "C = x * y\n",
    "\n",
    "print(A)\n",
    "print(B)\n",
    "print(C)\n",
    "del A, B, C\n",
    "\n",
    "\n",
    "\n",
    "\n",
    "\n"
   ]
  },
  {
   "cell_type": "markdown",
   "metadata": {
    "tags": []
   },
   "source": [
    "### Additional Python Operators\n",
    "\n",
    "### Assignments:\n",
    "\n",
    "|Operator|Example|Same as...|\n",
    "|----|----|----|\n",
    "|=|\tx = 5 |\tx = 5 |\n",
    "|+=|\tx += 3 |\tx = x + 3\t|\n",
    "|-=|\tx -= 3 |\tx = x - 3\t|\n",
    "|*=|\tx *= 3 |\tx = x * 3\t|\n",
    "|/=|\tx /= 3 |\tx = x / 3\t|\n",
    "|%=| x %= 3 |\tx = x % 3\t|\n",
    "|//=| x //= 3 |\tx = x // 3\t|\n",
    "|**=| x **= 3 |\tx = x ** 3\t|\n",
    "\n",
    "### Comparisons:\n",
    "\n",
    "|Operator|Name|Example|\n",
    "|----|----|----|\n",
    "|==| Equal | x == y |\n",
    "|!=|\tNot equal |\tx != y |\t\n",
    "|>|\tGreater than |\tx > y\t|\n",
    "|<|\tLess than |\tx < y\t|\n",
    "|>=|\tGreater than or equal to |\tx >= y\t|\n",
    "|<=|\tLess than or equal to |\tx <= y |\n",
    "\n",
    "### Logical:\n",
    "\n",
    "* These are great for loops!\n",
    "\n",
    "|Operator|Example|Same as...|\n",
    "|----|----|----|\n",
    "|and|\tReturns True if both statements are true |\tx < 5 and  x < 10\t|\n",
    "|or|\tReturns True if one of the statements is true |\tx < 5 or x < 4\t|\n",
    "|not|\tReverse the result, returns False if the result is true |\tnot(x < 5 and x < 10)|\n"
   ]
  },
  {
   "cell_type": "code",
   "execution_count": 18,
   "metadata": {},
   "outputs": [
    {
     "name": "stdout",
     "output_type": "stream",
     "text": [
      "5.0\n",
      "10.0\n",
      "15.0\n",
      "20.0\n",
      "25.0\n",
      "----------\n",
      "20.5\n",
      "16.0\n",
      "11.5\n",
      "----------\n"
     ]
    }
   ],
   "source": [
    "x = 5.0\n",
    "\n",
    "print(x)\n",
    "\n",
    "x += 5.0\n",
    "print(x)\n",
    "x += 5.0\n",
    "print(x)\n",
    "x += 5.0\n",
    "print(x)\n",
    "x += 5.0\n",
    "print(x)\n",
    "print ('-'*10)\n",
    "\n",
    "x -= 4.5\n",
    "print(x)\n",
    "x -= 4.5\n",
    "print(x)\n",
    "x -= 4.5\n",
    "print(x)\n",
    "print ('-'*10)\n",
    "\n",
    "del x"
   ]
  },
  {
   "cell_type": "code",
   "execution_count": 19,
   "metadata": {},
   "outputs": [
    {
     "data": {
      "text/plain": [
       "False"
      ]
     },
     "execution_count": 19,
     "metadata": {},
     "output_type": "execute_result"
    }
   ],
   "source": [
    "x = 5\n",
    "y = \"5\"\n",
    "\n",
    "x == y"
   ]
  },
  {
   "cell_type": "code",
   "execution_count": 20,
   "metadata": {},
   "outputs": [
    {
     "data": {
      "text/plain": [
       "False"
      ]
     },
     "execution_count": 20,
     "metadata": {},
     "output_type": "execute_result"
    }
   ],
   "source": [
    "x = 5\n",
    "y = 16\n",
    "\n",
    "not(x < 10 or y < 10)"
   ]
  },
  {
   "cell_type": "code",
   "execution_count": 21,
   "metadata": {},
   "outputs": [
    {
     "name": "stdout",
     "output_type": "stream",
     "text": [
      "True\n"
     ]
    }
   ],
   "source": [
    "d = x<10\n",
    "print(d)"
   ]
  },
  {
   "cell_type": "code",
   "execution_count": 22,
   "metadata": {},
   "outputs": [
    {
     "name": "stdout",
     "output_type": "stream",
     "text": [
      "Base pair volume as cylinder (nm^3):  106.814\n",
      "\n",
      "Base pair volume as sphere (nm^3):  418.879\n",
      "\n",
      "Length of human chr2 (in nm):  0.083\n"
     ]
    }
   ],
   "source": [
    "# Task: \n",
    "# B-form DNA has a helical diameter of 20. nm and a regular height between base pairs of 0.34 nm\n",
    "# 1. Save these as variables\n",
    "# 2. Calculate the volume of a stacked base-pair step if it were modeled as (i) a cylinder and (ii) a sphere ( define pi as PI = 3.141592653589793 ). Print these values.\n",
    "# 3. According to Wikipedia, human chromosome 2 is 242,696,752 base-pairs long. What is the length of chr.2 in meters (1m = 1 billion nm). Print this value.\n",
    "# 4. Delete your variables\n",
    "\n",
    "\n",
    "d = 20.\n",
    "h = 0.34\n",
    "PI = 3.141592653589793\n",
    "\n",
    "V_cyl = PI*((d/2)**2)*h\n",
    "print(\"Base pair volume as cylinder (nm^3): \", round(V_cyl, 3))\n",
    "print()\n",
    "\n",
    "V_sph = (4/3)*PI*(d/2)**2\n",
    "print(\"Base pair volume as sphere (nm^3): \", round(V_sph, 3))\n",
    "print()\n",
    "\n",
    "chr2 = 242696752\n",
    "L_chr2 = chr2*h/(10**9)\n",
    "print(\"Length of human chr2 (in nm): \", round(L_chr2, 3))\n",
    "\n",
    "del d, h, PI, V_cyl, V_sph, chr2, L_chr2\n",
    "\n"
   ]
  },
  {
   "cell_type": "markdown",
   "metadata": {
    "jp-MarkdownHeadingCollapsed": true,
    "tags": []
   },
   "source": [
    "## Python Collections (Arrays)"
   ]
  },
  {
   "cell_type": "markdown",
   "metadata": {
    "tags": []
   },
   "source": [
    "There are four collection data types in the Python programming language:\n",
    "\n",
    "List is a collection which is ordered and changeable. Allows duplicate members.  \n",
    "Tuple is a collection which is ordered and unchangeable. Allows duplicate members.  \n",
    "Set is a collection which is unordered and unindexed. No duplicate members.\n",
    "Dictionary is a collection which is unordered, changeable and indexed. No duplicate members.  \n",
    "When choosing a collection type, it is useful to understand the properties of that type. Choosing the right type for a particular data set could mean retention of meaning, and, it could mean an increase in efficiency or security.  "
   ]
  },
  {
   "cell_type": "markdown",
   "metadata": {},
   "source": [
    "### List  \n",
    "A list is a collection which is ordered and changeable. In Python lists are written with square brackets.\n",
    "\n",
    "Some great list methods to work with:\n",
    "\n",
    "| Method |\tDescription |\n",
    "|----|----|\n",
    "|append() |\tAdds an element at the end of the list |\n",
    "|clear() |\tRemoves all the elements from the list |\n",
    "|copy() |\tReturns a copy of the list |\n",
    "|count() |\tReturns the number of elements with the specified value |\n",
    "|extend() |\tAdd the elements of a list (or any iterable), to the end of the current list |\n",
    "|index() |\tReturns the index of the first element with the specified value |\n",
    "|insert() |\tAdds an element at the specified position |\n",
    "|pop() |\tRemoves the element at the specified position |\n",
    "|remove() |\tRemoves the item with the specified value |\n",
    "|reverse() |\tReverses the order of the list |\n",
    "|sort() |\tSorts the list |"
   ]
  },
  {
   "cell_type": "code",
   "execution_count": 23,
   "metadata": {},
   "outputs": [
    {
     "name": "stdout",
     "output_type": "stream",
     "text": [
      "['apple', 'banana', 'cherry']\n",
      "\n"
     ]
    }
   ],
   "source": [
    "thislist = [\"apple\", \"banana\", \"cherry\"]\n",
    "print(thislist)\n",
    "print()"
   ]
  },
  {
   "cell_type": "code",
   "execution_count": 24,
   "metadata": {},
   "outputs": [
    {
     "name": "stdout",
     "output_type": "stream",
     "text": [
      "3\n",
      "\n"
     ]
    }
   ],
   "source": [
    "# To determine how many items a list has, use the len() function:\n",
    "print(len(thislist))\n",
    "print()"
   ]
  },
  {
   "cell_type": "code",
   "execution_count": 25,
   "metadata": {},
   "outputs": [
    {
     "name": "stdout",
     "output_type": "stream",
     "text": [
      "banana\n",
      "\n"
     ]
    }
   ],
   "source": [
    "# You access the list items by referring to the index number:\n",
    "# -!- Index numbering starts at 0\n",
    "\n",
    "print(thislist[1])\n",
    "print()"
   ]
  },
  {
   "cell_type": "code",
   "execution_count": 26,
   "metadata": {},
   "outputs": [
    {
     "name": "stdout",
     "output_type": "stream",
     "text": [
      "cherry\n",
      "\n"
     ]
    }
   ],
   "source": [
    "# Negative indexing means beginning from the end, \n",
    "# -1 refers to the last item, \n",
    "# -2 refers to the second last item etc.\n",
    "\n",
    "print(thislist[-1])\n",
    "print()"
   ]
  },
  {
   "cell_type": "code",
   "execution_count": 27,
   "metadata": {},
   "outputs": [
    {
     "name": "stdout",
     "output_type": "stream",
     "text": [
      "['cherry', 'orange', 'kiwi']\n",
      "\n",
      "[]\n",
      "\n",
      "['orange', 'kiwi']\n",
      "\n",
      "['apple', 'banana', 'cherry', 'orange']\n",
      "\n",
      "['cherry', 'orange', 'kiwi', 'melon', 'mango']\n",
      "\n"
     ]
    }
   ],
   "source": [
    "# You can specify a range of indexes by specifying where to start and where to end the range.\n",
    "# When specifying a range, the return value will be a new list with the specified items.\n",
    "\n",
    "thislist = [\"apple\", \"banana\", \"cherry\", \"orange\", \"kiwi\", \"melon\", \"mango\"]\n",
    "print(thislist[2:5])\n",
    "print()\n",
    "print(thislist[-2:-4])\n",
    "print()\n",
    "print(thislist[-4:-2])\n",
    "print()\n",
    "\n",
    "# you can print all until a specific index\n",
    "print(thislist[:4])\n",
    "print()\n",
    "\n",
    "# you can pring start at a specific index until the end\n",
    "print(thislist[2:])\n",
    "print()"
   ]
  },
  {
   "cell_type": "code",
   "execution_count": 28,
   "metadata": {},
   "outputs": [
    {
     "name": "stdout",
     "output_type": "stream",
     "text": [
      "['apple', 'banana', 'cherry']\n",
      "\n",
      "['apple', 'blackcurrant', 'cherry']\n",
      "\n",
      "['apple', 'blackcurrant', 'cherry', 'orange']\n",
      "\n",
      "['apple', 'banana', 'blackcurrant', 'cherry', 'orange']\n",
      "\n",
      "['apple', 'blackcurrant', 'cherry', 'orange']\n",
      "\n",
      "['blackcurrant', 'cherry', 'orange']\n",
      "\n"
     ]
    },
    {
     "ename": "NameError",
     "evalue": "name 'thislist' is not defined",
     "output_type": "error",
     "traceback": [
      "\u001b[0;31m---------------------------------------------------------------------------\u001b[0m",
      "\u001b[0;31mNameError\u001b[0m                                 Traceback (most recent call last)",
      "Cell \u001b[0;32mIn[28], line 33\u001b[0m\n\u001b[1;32m     31\u001b[0m \u001b[38;5;66;03m# -!- The del keyword can also delete the list completely:\u001b[39;00m\n\u001b[1;32m     32\u001b[0m \u001b[38;5;28;01mdel\u001b[39;00m thislist\n\u001b[0;32m---> 33\u001b[0m \u001b[38;5;28mprint\u001b[39m(\u001b[43mthislist\u001b[49m)\n\u001b[1;32m     34\u001b[0m \u001b[38;5;28mprint\u001b[39m()\n",
      "\u001b[0;31mNameError\u001b[0m: name 'thislist' is not defined"
     ]
    }
   ],
   "source": [
    "# To change the value of a specific item, refer to the index number:\n",
    "thislist = [\"apple\", \"banana\", \"cherry\"]\n",
    "print(thislist)\n",
    "print()\n",
    "\n",
    "thislist[1] = \"blackcurrant\"\n",
    "print(thislist)\n",
    "print()\n",
    "\n",
    "# To add an item to the end of the list, use the append() method:\n",
    "thislist.append(\"orange\")\n",
    "print(thislist)\n",
    "print()\n",
    "\n",
    "# To add an item at the specified index, use the insert() method:\n",
    "thislist.insert(1, \"banana\")\n",
    "print(thislist)\n",
    "print()\n",
    "\n",
    "\n",
    "# The remove() method removes the specified item:\n",
    "thislist.remove(\"banana\")\n",
    "print(thislist)\n",
    "print()\n",
    "\n",
    "# The del keyword removes the specified index:\n",
    "del thislist[0]\n",
    "print(thislist)\n",
    "print()\n",
    "\n",
    "# -!- The del keyword can also delete the list completely:\n",
    "del thislist\n",
    "print(thislist)\n",
    "print()"
   ]
  },
  {
   "cell_type": "code",
   "execution_count": 29,
   "metadata": {},
   "outputs": [
    {
     "name": "stdout",
     "output_type": "stream",
     "text": [
      "['apple', 'banana', 'cherry']\n",
      "\n",
      "['apple', 'banana', 'cherry']\n",
      "\n",
      "['a', 'b', 'c', 1, 2, 3]\n",
      "\n",
      "[1, 2, 3, 'a', 'b', 'c']\n"
     ]
    }
   ],
   "source": [
    "# There are ways to make a copy, one way is to use the built-in List method copy().\n",
    "thislist = [\"apple\", \"banana\", \"cherry\"]\n",
    "print(thislist)\n",
    "print()\n",
    "mylist = thislist.copy()\n",
    "print(mylist)\n",
    "print()\n",
    "\n",
    "\n",
    "# You can JOIN two lists by using either '+' or append()\n",
    "list1 = [\"a\", \"b\" , \"c\"]\n",
    "list2 = [1, 2, 3]\n",
    "\n",
    "list3 = list1 + list2\n",
    "\n",
    "list4 = list2 + list1\n",
    "\n",
    "print(list3)\n",
    "print()\n",
    "print(list4)"
   ]
  },
  {
   "cell_type": "markdown",
   "metadata": {},
   "source": [
    "But how can I _make_ a list: You can use a __LOOP__.\n",
    "\n",
    "A __for__ loop is used for iterating over a sequence (that is either a list, a tuple, a dictionary, a set, or a string). This is less like the _for_ keyword in other programming languages, and works more like an iterator method as found in other object-orientated programming languages.\n",
    "\n",
    "With the __for__ loop we can execute a set of statements, once for each item in a list, tuple, set etc.\n",
    "\n",
    "The types of loops you can work with include:\n",
    "- __for__ loops\n",
    "- __if/else__ loops, where \"if\" a condition is met, do A; if another condition is met, do B\n",
    "- __while__ loops, where you do A repeatedly until a condition is met"
   ]
  },
  {
   "cell_type": "code",
   "execution_count": 30,
   "metadata": {},
   "outputs": [
    {
     "name": "stdout",
     "output_type": "stream",
     "text": [
      "['a', 'b', 'c', 'd']\n"
     ]
    }
   ],
   "source": [
    "list1 = list1 + [\"d\"]\n",
    "\n",
    "print(list1)"
   ]
  },
  {
   "cell_type": "code",
   "execution_count": 31,
   "metadata": {},
   "outputs": [
    {
     "name": "stdout",
     "output_type": "stream",
     "text": [
      "['a', 'b', 'c', 'd']\n",
      "[1, 2, 3]\n",
      "[1, 2, 3, 'a', 'b', 'c', 'd']\n"
     ]
    }
   ],
   "source": [
    "print(list1)\n",
    "print(list2)\n",
    "\n",
    "for x in list1:\n",
    "    list2.append(x)\n",
    "\n",
    "print(list2)"
   ]
  },
  {
   "cell_type": "code",
   "execution_count": 32,
   "metadata": {},
   "outputs": [
    {
     "name": "stdout",
     "output_type": "stream",
     "text": [
      "[]\n"
     ]
    }
   ],
   "source": [
    "list2.clear()\n",
    "print(list2)"
   ]
  },
  {
   "cell_type": "code",
   "execution_count": 33,
   "metadata": {},
   "outputs": [
    {
     "name": "stdout",
     "output_type": "stream",
     "text": [
      "['apple', 'banana', 'cherry']\n",
      "['apple', 'banana', 'cherry']\n"
     ]
    }
   ],
   "source": [
    "thislist\n",
    "\n",
    "grocery_list = []\n",
    "\n",
    "for item in thislist:\n",
    "    grocery_list.append(item)\n",
    "    \n",
    "print(thislist)\n",
    "print(grocery_list)"
   ]
  },
  {
   "cell_type": "code",
   "execution_count": 34,
   "metadata": {},
   "outputs": [
    {
     "name": "stdout",
     "output_type": "stream",
     "text": [
      "['apple', 'banana', 'cherry']\n",
      "['apple', 'banana', 'cherry']\n"
     ]
    }
   ],
   "source": [
    "thislist\n",
    "\n",
    "grocery_list = []\n",
    "\n",
    "for item in thislist:\n",
    "    \n",
    "    if item != \"mango\":\n",
    "    \n",
    "        grocery_list.append(item)\n",
    "    \n",
    "print(thislist)\n",
    "print(grocery_list)\n",
    "del grocery_list"
   ]
  },
  {
   "cell_type": "code",
   "execution_count": 35,
   "metadata": {},
   "outputs": [
    {
     "name": "stdout",
     "output_type": "stream",
     "text": [
      "['apple', 'banana', 'cherry', 'orange', 'kiwi', 'melon', 'mango']\n",
      "\n",
      "['orange']\n"
     ]
    }
   ],
   "source": [
    "need_food    = ['apple', 'banana', 'cherry', 'orange', 'kiwi', 'melon', 'mango']\n",
    "\n",
    "# Add some items to a list using a for loop\n",
    "# You can run a loop within a loop\n",
    "\n",
    "grocery_list = []\n",
    "\n",
    "for item in need_food:\n",
    "    \n",
    "    if item == \"orange\":\n",
    "    \n",
    "        grocery_list.append(item)\n",
    "    \n",
    "print(need_food)\n",
    "print()\n",
    "print(grocery_list)"
   ]
  },
  {
   "cell_type": "code",
   "execution_count": 36,
   "metadata": {},
   "outputs": [
    {
     "name": "stdout",
     "output_type": "stream",
     "text": [
      "apple\n",
      "banana\n",
      "apple\n",
      "banana\n",
      "orange\n",
      "kiwi\n",
      "melon\n",
      "mango\n"
     ]
    }
   ],
   "source": [
    "# If you want to stop the loop based on a specific condition, use \"break\"\n",
    "\n",
    "for item in need_food:\n",
    "    if item == 'cherry':\n",
    "        break\n",
    "    else:\n",
    "        print(item)\n",
    "# If you want to keep the loop going even if it runs into an issue, use \"continue\"\n",
    "\n",
    "for item in need_food:\n",
    "    if item == 'cherry':\n",
    "        continue\n",
    "    else:\n",
    "        print(item)"
   ]
  },
  {
   "cell_type": "code",
   "execution_count": 37,
   "metadata": {},
   "outputs": [
    {
     "name": "stdout",
     "output_type": "stream",
     "text": [
      "0\n",
      "apple\n",
      "1\n",
      "banana\n",
      "2\n",
      "cherry\n",
      "3\n",
      "orange\n",
      "4\n",
      "kiwi\n",
      "5\n",
      "melon\n",
      "6\n",
      "mango\n"
     ]
    }
   ],
   "source": [
    "# Unsure how many times you need to iterate over? Try \"range()\"\n",
    "\n",
    "for i in range( len(need_food) ):\n",
    "    print(str(i))\n",
    "    print(need_food[i])"
   ]
  },
  {
   "cell_type": "markdown",
   "metadata": {},
   "source": [
    "A \"Pythonic\" way to make lists less bulky is to use __list comprehension__, which offers a shorter syntax when you want to create a new list based on the values of an existing list.\n",
    "\n",
    "With list comprehension, you are building a loop in a single line"
   ]
  },
  {
   "cell_type": "code",
   "execution_count": 38,
   "metadata": {},
   "outputs": [
    {
     "name": "stdout",
     "output_type": "stream",
     "text": [
      "['a', 'b', 'c', 'd', 'e']\n",
      "['a', 'b', 'd', 'e']\n"
     ]
    }
   ],
   "source": [
    "list1 = ['a','b','c','d','e']\n",
    "\n",
    "list2 = [ list1[i] for i in range(len(list1)) ]\n",
    "print(list2)\n",
    "\n",
    "list3 = [ list1[i] for i in range(len(list1)) if i!=2 ]\n",
    "print(list3)"
   ]
  },
  {
   "cell_type": "code",
   "execution_count": null,
   "metadata": {},
   "outputs": [],
   "source": []
  },
  {
   "cell_type": "markdown",
   "metadata": {},
   "source": [
    "A _list_ stores items, but if you want to store items based on specific indicators, you can use a __dictionary__. A dictionary is accessed based on the \"key\" and once it finds that key, it will access and use the \"value\" associated with it. This of the key as the word you want to learn about in an actual dictionary and its definition is its value. \n",
    "\n",
    "Dictionary items are ordered, changeable, can be of any data type, and does not allow duplicate keys (one can, however, have duplicated values).\n",
    "\n",
    "Dictionary items are presented in key:value pairs, and can be referred to by using the key name.\n",
    "\n",
    "Dictionaries are changeable, meaning that we can change, add or remove items after the dictionary has been created.\n",
    "\n"
   ]
  },
  {
   "cell_type": "code",
   "execution_count": 39,
   "metadata": {},
   "outputs": [
    {
     "name": "stdout",
     "output_type": "stream",
     "text": [
      "{'mango': 4, 'banana': 2, 'apple': 19}\n"
     ]
    }
   ],
   "source": [
    "food_dictionary = {'mango':4,\n",
    "                   'banana':2,\n",
    "                   'apple':19}\n",
    "\n",
    "print(food_dictionary)\n"
   ]
  },
  {
   "cell_type": "code",
   "execution_count": 40,
   "metadata": {},
   "outputs": [
    {
     "name": "stdout",
     "output_type": "stream",
     "text": [
      "2\n"
     ]
    }
   ],
   "source": [
    "# Now that a dictionary has been made, how do you access it?\n",
    "\n",
    "print(food_dictionary['banana'])\n"
   ]
  },
  {
   "cell_type": "markdown",
   "metadata": {},
   "source": [
    "Some great dictionary methods to work with:\n",
    "\n",
    "| Method |\tDescription |\n",
    "|----|----|\n",
    "|clear() |\tRemoves all the elements from the dictionary |\n",
    "|copy()\t| Returns a copy of the dictionary |\n",
    "|fromkeys() |\tReturns a dictionary with the specified keys and value |\n",
    "|get() |\tReturns the value of the specified key |\n",
    "|items() |\tReturns a list containing a tuple for each key value pair |\n",
    "|keys() |\tReturns a list containing the dictionary's keys |\n",
    "|pop() |\tRemoves the element with the specified key |\n",
    "|popitem() |\tRemoves the last inserted key-value pair |\n",
    "|setdefault()\t| Returns the value of the specified key. If the key does not exist: insert the key, with the specified value |\n",
    "|update() |\tUpdates the dictionary with the specified key-value pairs |\n",
    "|values() |\tReturns a list of all the values in the dictionary |"
   ]
  },
  {
   "cell_type": "code",
   "execution_count": null,
   "metadata": {},
   "outputs": [],
   "source": []
  },
  {
   "cell_type": "code",
   "execution_count": 41,
   "metadata": {},
   "outputs": [
    {
     "name": "stdout",
     "output_type": "stream",
     "text": [
      "['A', 'G', 'T', 'C', 'G', 'G', 'T', 'A', 'A', 'T', 'T', 'A', 'T', 'A', 'C', 'C', 'G', 'A', 'C', 'T', 'A']\n",
      "['A', 'G', 'T', 'C', 'G', 'G', 'T', 'A', 'A', 'T', 'T', 'A', 'T', 'A', 'C', 'C', 'G', 'A', 'C', 'T', 'A']\n",
      "['A', 'G', 'T', 'C', 'G', 'G', 'T', 'A', 'A', 'T', 'T', 'A', 'T', 'A', 'C', 'C', 'G', 'A', 'C', 'T', 'A']\n",
      "['A', 'G', 'T', 'C', 'G', 'G', 'T', 'A', 'A', 'T', 'T', 'A', 'T', 'A', 'C', 'C', 'G', 'A', 'C', 'T', 'A']\n",
      "----------\n",
      "A\n",
      "G\n",
      "T\n",
      "C\n",
      "G\n",
      "G\n",
      "T\n",
      "A\n",
      "A\n",
      "T\n",
      "T\n",
      "A\n",
      "T\n",
      "A\n",
      "C\n",
      "C\n",
      "G\n",
      "A\n",
      "C\n",
      "T\n",
      "A\n",
      "----------\n",
      "\n",
      "2\n",
      "6\n",
      "9\n",
      "10\n",
      "12\n",
      "19\n",
      "----------\n",
      "\n",
      "AGTCGGTAATTATACCGACTA\n",
      "AGUCGGUAAUUAUACCGACUA\n"
     ]
    }
   ],
   "source": [
    "# Task:\n",
    "# Sequence: AGTCGGTAATTATACCGACTA\n",
    "# Make a list where every element of that list in a base in the above sequence using the append loop above.\n",
    "# Print the list.\n",
    "# Print every element of the list element by element with a for loop based on index numbering. Here, use len(list) to know how many indices to use\n",
    "# Next, do a mutation. \n",
    "# Print every index where a 'T' occurs. Then, change every T with uracil, U. This will be a for loop based on index numbering.\n",
    "# Finally, print both the regular sequence string above the mutated sequence string\n",
    "# -!- look up \"python .join()\" method in https://www.w3schools.com/python/\n",
    "# Once completed, delete your variables\n",
    "\n",
    "sequence='AGTCGGTAATTATACCGACTA'\n",
    "\n",
    "SEQ = []\n",
    "for s in sequence:\n",
    "    SEQ.append(s)\n",
    "print(SEQ)\n",
    "\n",
    "# OR ...\n",
    "SEQ = [s for s in sequence]\n",
    "print(SEQ)\n",
    "# OR ...\n",
    "SEQ = [*sequence]\n",
    "print(SEQ)\n",
    "# OR ...\n",
    "SEQ = list(sequence)\n",
    "print(SEQ)\n",
    "\n",
    "print('-'*10)\n",
    "\n",
    "for idx in range (len(SEQ) ):\n",
    "    print( SEQ[idx] )\n",
    "\n",
    "print('-'*10)\n",
    "print()\n",
    "MUT_SEQ = SEQ.copy()\n",
    "for idx in range( len(SEQ) ):\n",
    "    if SEQ[idx]==\"T\":\n",
    "        print(idx)\n",
    "        MUT_SEQ[idx]=\"U\"\n",
    "        \n",
    "mut_sequence=''.join(MUT_SEQ)\n",
    "\n",
    "print('-'*10)\n",
    "print()\n",
    "print(sequence)\n",
    "print(mut_sequence)\n",
    "\n",
    "del sequence, SEQ, MUT_SEQ, mut_sequence\n"
   ]
  },
  {
   "cell_type": "code",
   "execution_count": null,
   "metadata": {},
   "outputs": [],
   "source": []
  },
  {
   "cell_type": "markdown",
   "metadata": {
    "jp-MarkdownHeadingCollapsed": true,
    "tags": []
   },
   "source": [
    "## Python Modules "
   ]
  },
  {
   "cell_type": "markdown",
   "metadata": {},
   "source": [
    "Consider a module to be the same as a code library. A file containing a set of functions you want to include in your application.  \n",
    "You can retrieve a module using the `import` statement  \n",
    "\n",
    "This is import to use important libraries that are commonly using in scientific and data analysis, including:  \n",
    "\n",
    "`import os` \n",
    "\n",
    "`import sys`\n",
    "\n",
    "`import numpy` \n",
    "\n",
    "`import scipy`\n",
    "\n",
    "`import matploltib`  \n",
    "\n",
    "`import pandas`\n",
    "\n",
    "`import sklearn`\n",
    "\n",
    "You should look up each of these modules on your own. By downloading Jupyter to your computer, these are already downloaded for you."
   ]
  },
  {
   "cell_type": "code",
   "execution_count": null,
   "metadata": {},
   "outputs": [],
   "source": [
    "# Dr. Robert Young, University of Maryland\n",
    "# In collaboration with Matthew Osborne, Erdos Institute\n",
    "# UMD FIRE Genome Computing"
   ]
  }
 ],
 "metadata": {
  "kernelspec": {
   "display_name": "Python 3 (ipykernel)",
   "language": "python",
   "name": "python3"
  },
  "language_info": {
   "codemirror_mode": {
    "name": "ipython",
    "version": 3
   },
   "file_extension": ".py",
   "mimetype": "text/x-python",
   "name": "python",
   "nbconvert_exporter": "python",
   "pygments_lexer": "ipython3",
   "version": "3.9.16"
  }
 },
 "nbformat": 4,
 "nbformat_minor": 4
}
