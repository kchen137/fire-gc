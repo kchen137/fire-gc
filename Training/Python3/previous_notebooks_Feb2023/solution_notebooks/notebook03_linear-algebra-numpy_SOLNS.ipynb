{
 "cells": [
  {
   "cell_type": "markdown",
   "metadata": {},
   "source": [
    "# UMD FIRE Stream- Genome Computing III\n",
    "## Elements of Linear Algebra\n",
    "\n",
    "Here you will learn about working with vectors and matrices with the `numpy` module.\n",
    "\n",
    "Linear Algebra is not only essential in computational work, its important in Genome Computing work. \n",
    "\n",
    "This notebook will take a bit of time for those who are unfamilar with vectors and I encourage you to check out the numpy documentation at https://numpy.org/doc/ based on the version of NumPy you have.\n",
    "<li>- for the 'dnalab' environment you should refer to Version 1.23 (as of Jan 2023)</li>\n",
    "\n",
    "Here you will learn about\n",
    "<li>- arrays, rows, and columns</li>\n",
    "<li>- Learn to filter databased on logic operators</li>\n",
    "<li>- Make a figure with a \"meshgrid\"</li>\n",
    "<li>- and more!</li>\n"
   ]
  },
  {
   "cell_type": "markdown",
   "metadata": {},
   "source": [
    "# `numpy`\n",
    "\n",
    "`numpy` is another very popular package in the world of data science and machine learning. It is short for Numerical Python, and is one of the most important foundational packages for numerical computing in `python`.\n",
    "\n",
    "Let's start off by importing the package."
   ]
  },
  {
   "cell_type": "code",
   "execution_count": 1,
   "metadata": {},
   "outputs": [
    {
     "name": "stdout",
     "output_type": "stream",
     "text": [
      "1.23.5\n"
     ]
    }
   ],
   "source": [
    "# It is standard to import numpy as np\n",
    "\n",
    "import numpy as np\n",
    "\n",
    "print(np.__version__)\n"
   ]
  },
  {
   "cell_type": "markdown",
   "metadata": {},
   "source": [
    "### `numpy`'s ndarray\n",
    "\n",
    "The `numpy` data object is know as an `ndarray` it is similar to a list"
   ]
  },
  {
   "cell_type": "code",
   "execution_count": 2,
   "metadata": {},
   "outputs": [
    {
     "name": "stdout",
     "output_type": "stream",
     "text": [
      "[1 2 3 4]\n",
      "\n",
      "<class 'numpy.ndarray'>\n"
     ]
    }
   ],
   "source": [
    "# You can make an array with np.array\n",
    "\n",
    "array1 = np.array([1,2,3,4])\n",
    "\n",
    "print(array1)\n",
    "print()\n",
    "print(type(array1))\n"
   ]
  },
  {
   "cell_type": "markdown",
   "metadata": {},
   "source": [
    "... but it can have any <b>finite</b> number dimensions."
   ]
  },
  {
   "cell_type": "code",
   "execution_count": 3,
   "metadata": {},
   "outputs": [
    {
     "name": "stdout",
     "output_type": "stream",
     "text": [
      "[[1 2]\n",
      " [2 1]]\n",
      "\n",
      "array2 is a (2, 2) ndarray\n"
     ]
    }
   ],
   "source": [
    "array2 = np.array([[1,2],[2,1]])\n",
    "\n",
    "print(array2)\n",
    "print()\n",
    "\n",
    "# np.shape() will give you the dimensions of the array\n",
    "# array2 is a 2 by 2 array\n",
    "\n",
    "print(\"array2 is a\",np.shape(array2),\"ndarray\")\n"
   ]
  },
  {
   "cell_type": "code",
   "execution_count": 4,
   "metadata": {},
   "outputs": [
    {
     "name": "stdout",
     "output_type": "stream",
     "text": [
      "[[[1 2]\n",
      "  [2 1]]\n",
      "\n",
      " [[2 3]\n",
      "  [3 2]]]\n",
      "\n",
      "array3 is a (2, 2, 2) ndarray\n"
     ]
    }
   ],
   "source": [
    "array3 = np.array([[[1,2],[2,1]],[[2,3],[3,2]]])\n",
    "\n",
    "print(array3)\n",
    "print()\n",
    "print(\"array3 is a\",np.shape(array3),\"ndarray\")\n"
   ]
  },
  {
   "cell_type": "markdown",
   "metadata": {},
   "source": [
    "We can keep going if we want to"
   ]
  },
  {
   "cell_type": "code",
   "execution_count": 5,
   "metadata": {},
   "outputs": [
    {
     "name": "stdout",
     "output_type": "stream",
     "text": [
      "[[[[1 2]\n",
      "   [1 2]]\n",
      "\n",
      "  [[1 2]\n",
      "   [1 2]]]\n",
      "\n",
      "\n",
      " [[[1 2]\n",
      "   [1 2]]\n",
      "\n",
      "  [[1 2]\n",
      "   [1 2]]]\n",
      "\n",
      "\n",
      " [[[1 2]\n",
      "   [1 2]]\n",
      "\n",
      "  [[1 2]\n",
      "   [1 2]]]]\n",
      "array4 is a (3, 2, 2, 2) ndarray\n"
     ]
    }
   ],
   "source": [
    "## Practice\n",
    "## Make a 4 dimensional array and store it in array4\n",
    "\n",
    "array4 = np.array(\n",
    "[[[[1,2], [1,2]], [[1,2], [1,2]]], \n",
    " [[[1,2], [1,2]], [[1,2], [1,2]]],\n",
    " [[[1,2], [1,2]], [[1,2], [1,2]]]\n",
    "])\n",
    "    \n",
    "print(array4)\n",
    "print(\"array4 is a\",np.shape(array4),\"ndarray\")\n"
   ]
  },
  {
   "cell_type": "code",
   "execution_count": 7,
   "metadata": {},
   "outputs": [],
   "source": [
    "\n",
    "\n",
    "# Delete the arrays you made above (save your memory)\n",
    "\n",
    "del array1, array2, array3, array4\n"
   ]
  },
  {
   "cell_type": "markdown",
   "metadata": {},
   "source": [
    "#### Other Array Generators\n",
    "\n",
    "As we've seen you can make arrays out of lists and lists of lists. There are also a number of built in array generators.\n",
    "\n",
    "\n",
    "Generating basic arrays of specific sizes include:\n",
    "\n",
    "| Method |\tDescription |\n",
    "|----|----|\n",
    "|zeros( (N, M, ...) ) | Array of all 0's of shape N entries x M entries|\n",
    "|ones( (N, M, ...) )\t| Array of all 1's of shape N entries x M entries |\n",
    "|empty( (N, M, ...) ) | Empty array of shape N entries x M entries |\n",
    "|eye( N ) | The identity matrix whose axes sizes are of length N |\n",
    "\n",
    "Mathematical Functions are included as functions, including:\n",
    "- add(), subtract(), multiply(), divide()\n",
    "- sin(), cos(), tan(); arcsin(), arccos(), arctan(); sinh(), cosh(), tanh()\n",
    "- Angle conversions: deg2rad() and rad2deg()\n",
    "- exp() and log() \n",
    "- Linear Algebra multiplication operations: dot() and cross()\n",
    "\n",
    "Finally, one can save and load text files into numpy arrays.\n",
    "- loadtxt(filename)\n",
    "- genfromtext(filename, delimiter='')\n",
    "- savetxt(filename, array name, delimiter"
   ]
  },
  {
   "cell_type": "code",
   "execution_count": 8,
   "metadata": {},
   "outputs": [
    {
     "data": {
      "text/plain": [
       "array([[[4.9e-324, 9.9e-324],\n",
       "        [9.9e-324, 4.9e-324]],\n",
       "\n",
       "       [[9.9e-324, 1.5e-323],\n",
       "        [1.5e-323, 9.9e-324]]])"
      ]
     },
     "execution_count": 8,
     "metadata": {},
     "output_type": "execute_result"
    }
   ],
   "source": [
    "# We can make an empty array\n",
    "# np.empty(array_shape)\n",
    "\n",
    "np.empty((2,2,2))\n"
   ]
  },
  {
   "cell_type": "code",
   "execution_count": 9,
   "metadata": {},
   "outputs": [
    {
     "data": {
      "text/plain": [
       "array([1., 1., 1., 1., 1., 1., 1., 1., 1., 1., 1., 1.])"
      ]
     },
     "execution_count": 9,
     "metadata": {},
     "output_type": "execute_result"
    }
   ],
   "source": [
    "# We can make an array of all ones\n",
    "# np.ones(array_shape)\n",
    "\n",
    "np.ones(12)\n"
   ]
  },
  {
   "cell_type": "code",
   "execution_count": 10,
   "metadata": {},
   "outputs": [
    {
     "data": {
      "text/plain": [
       "array([[0., 0., 0., 0.],\n",
       "       [0., 0., 0., 0.],\n",
       "       [0., 0., 0., 0.],\n",
       "       [0., 0., 0., 0.]])"
      ]
     },
     "execution_count": 10,
     "metadata": {},
     "output_type": "execute_result"
    }
   ],
   "source": [
    "#  An array of zeros\n",
    "# np.zeros(array_shape)\n",
    "\n",
    "np.zeros((4,4))\n"
   ]
  },
  {
   "cell_type": "code",
   "execution_count": 11,
   "metadata": {},
   "outputs": [
    {
     "data": {
      "text/plain": [
       "array([0.        , 0.11111111, 0.22222222, 0.33333333, 0.44444444,\n",
       "       0.55555556, 0.66666667, 0.77777778, 0.88888889, 1.        ])"
      ]
     },
     "execution_count": 11,
     "metadata": {},
     "output_type": "execute_result"
    }
   ],
   "source": [
    "# a 1d array for an interval\n",
    "# np.linspace(start, end, number of entries)\n",
    "\n",
    "np.linspace(0, 1, 10)\n"
   ]
  },
  {
   "cell_type": "code",
   "execution_count": 12,
   "metadata": {},
   "outputs": [
    {
     "data": {
      "text/plain": [
       "array([0. , 0.1, 0.2, 0.3, 0.4, 0.5, 0.6, 0.7, 0.8, 0.9, 1. , 1.1, 1.2,\n",
       "       1.3, 1.4, 1.5, 1.6, 1.7, 1.8, 1.9, 2. , 2.1, 2.2, 2.3, 2.4, 2.5,\n",
       "       2.6, 2.7, 2.8, 2.9, 3. , 3.1, 3.2, 3.3, 3.4, 3.5, 3.6, 3.7, 3.8,\n",
       "       3.9, 4. , 4.1, 4.2, 4.3, 4.4, 4.5, 4.6, 4.7, 4.8, 4.9, 5. , 5.1,\n",
       "       5.2, 5.3, 5.4, 5.5, 5.6, 5.7, 5.8, 5.9, 6. , 6.1, 6.2, 6.3, 6.4,\n",
       "       6.5, 6.6, 6.7, 6.8, 6.9, 7. , 7.1, 7.2, 7.3, 7.4, 7.5, 7.6, 7.7,\n",
       "       7.8, 7.9, 8. , 8.1, 8.2, 8.3, 8.4, 8.5, 8.6, 8.7, 8.8, 8.9, 9. ,\n",
       "       9.1, 9.2, 9.3, 9.4, 9.5, 9.6, 9.7, 9.8, 9.9])"
      ]
     },
     "execution_count": 12,
     "metadata": {},
     "output_type": "execute_result"
    }
   ],
   "source": [
    "# the numpy version of range allows decimals\n",
    "# np.arange(start,end,step_size)\n",
    "\n",
    "np.arange(0, 10, 0.1)\n"
   ]
  },
  {
   "cell_type": "code",
   "execution_count": 13,
   "metadata": {},
   "outputs": [
    {
     "name": "stdout",
     "output_type": "stream",
     "text": [
      "[-2.         -1.95959596 -1.91919192 -1.87878788 -1.83838384 -1.7979798\n",
      " -1.75757576 -1.71717172 -1.67676768 -1.63636364 -1.5959596  -1.55555556\n",
      " -1.51515152 -1.47474747 -1.43434343 -1.39393939 -1.35353535 -1.31313131\n",
      " -1.27272727 -1.23232323 -1.19191919 -1.15151515 -1.11111111 -1.07070707\n",
      " -1.03030303 -0.98989899 -0.94949495 -0.90909091 -0.86868687 -0.82828283\n",
      " -0.78787879 -0.74747475 -0.70707071 -0.66666667 -0.62626263 -0.58585859\n",
      " -0.54545455 -0.50505051 -0.46464646 -0.42424242 -0.38383838 -0.34343434\n",
      " -0.3030303  -0.26262626 -0.22222222 -0.18181818 -0.14141414 -0.1010101\n",
      " -0.06060606 -0.02020202  0.02020202  0.06060606  0.1010101   0.14141414\n",
      "  0.18181818  0.22222222  0.26262626  0.3030303   0.34343434  0.38383838\n",
      "  0.42424242  0.46464646  0.50505051  0.54545455  0.58585859  0.62626263\n",
      "  0.66666667  0.70707071  0.74747475  0.78787879  0.82828283  0.86868687\n",
      "  0.90909091  0.94949495  0.98989899  1.03030303  1.07070707  1.11111111\n",
      "  1.15151515  1.19191919  1.23232323  1.27272727  1.31313131  1.35353535\n",
      "  1.39393939  1.43434343  1.47474747  1.51515152  1.55555556  1.5959596\n",
      "  1.63636364  1.67676768  1.71717172  1.75757576  1.7979798   1.83838384\n",
      "  1.87878788  1.91919192  1.95959596  2.        ]\n",
      "****************************************************************************************************\n",
      "[[8.         7.84001632 7.68329762 ... 7.68329762 7.84001632 8.        ]\n",
      " [7.84001632 7.68003265 7.52331395 ... 7.52331395 7.68003265 7.84001632]\n",
      " [7.68329762 7.52331395 7.36659525 ... 7.36659525 7.52331395 7.68329762]\n",
      " ...\n",
      " [7.68329762 7.52331395 7.36659525 ... 7.36659525 7.52331395 7.68329762]\n",
      " [7.84001632 7.68003265 7.52331395 ... 7.52331395 7.68003265 7.84001632]\n",
      " [8.         7.84001632 7.68329762 ... 7.68329762 7.84001632 8.        ]]\n"
     ]
    }
   ],
   "source": [
    "# make a 2-dimensional grid\n",
    "\n",
    "interval = np.linspace(-2,2,100)\n",
    "\n",
    "print(interval)\n",
    "\n",
    "print('*'*100)\n",
    "\n",
    "# meshgrid takes in two intervals as arguments\n",
    "# it outputs two arrays that give every x,y\n",
    "# pair from the two intervals you enter\n",
    "\n",
    "xs,ys = np.meshgrid(interval, interval)\n",
    "\n",
    "# useful for calculations\n",
    "\n",
    "z = xs**2 + ys**2  # the ** operator is an exponent, so **2 means 'squared'\n",
    "\n",
    "print(z)"
   ]
  },
  {
   "cell_type": "code",
   "execution_count": 15,
   "metadata": {},
   "outputs": [
    {
     "data": {
      "image/png": "[encoded data removed]",
      "text/plain": [
       "<Figure size 1000x1000 with 2 Axes>"
      ]
     },
     "metadata": {},
     "output_type": "display_data"
    },
    {
     "data": {
      "text/plain": [
       "<Figure size 640x480 with 0 Axes>"
      ]
     },
     "metadata": {},
     "output_type": "display_data"
    }
   ],
   "source": [
    "# We will now import a second module - `matplotlib' - that will allow us to print figures\n",
    "\n",
    "# A sample plot using meshgrid\n",
    "\n",
    "import matplotlib.pyplot as plt\n",
    "\n",
    "plt.figure(figsize=(10,10))\n",
    "\n",
    "plt.imshow(z)\n",
    "\n",
    "# Try a different color map called plasma- comment out the plt line above and remove the commenter from the line below\n",
    "#plt.imshow(z, cmap=plt.cm.plasma)\n",
    "\n",
    "plt.colorbar()\n",
    "\n",
    "plt.title(\"Image of $x^2 + y^2$ for a grid of values\")\n",
    "\n",
    "plt.show()\n",
    "plt.clf()\n"
   ]
  },
  {
   "cell_type": "code",
   "execution_count": 41,
   "metadata": {},
   "outputs": [
    {
     "name": "stdout",
     "output_type": "stream",
     "text": [
      "[-5.         -4.79591837 -4.59183673 -4.3877551  -4.18367347 -3.97959184\n",
      " -3.7755102  -3.57142857 -3.36734694 -3.16326531 -2.95918367 -2.75510204\n",
      " -2.55102041 -2.34693878 -2.14285714 -1.93877551 -1.73469388 -1.53061224\n",
      " -1.32653061 -1.12244898 -0.91836735 -0.71428571 -0.51020408 -0.30612245\n",
      " -0.10204082  0.10204082  0.30612245  0.51020408  0.71428571  0.91836735\n",
      "  1.12244898  1.32653061  1.53061224  1.73469388  1.93877551  2.14285714\n",
      "  2.34693878  2.55102041  2.75510204  2.95918367  3.16326531  3.36734694\n",
      "  3.57142857  3.7755102   3.97959184  4.18367347  4.3877551   4.59183673\n",
      "  4.79591837  5.        ]\n",
      "\n",
      "[30.         30.20408163 30.40816327 30.6122449  30.81632653 31.02040816\n",
      " 31.2244898  31.42857143 31.63265306 31.83673469 32.04081633 32.24489796\n",
      " 32.44897959 32.65306122 32.85714286 33.06122449 33.26530612 33.46938776\n",
      " 33.67346939 33.87755102 34.08163265 34.28571429 34.48979592 34.69387755\n",
      " 34.89795918 35.10204082 35.30612245 35.51020408 35.71428571 35.91836735\n",
      " 36.12244898 36.32653061 36.53061224 36.73469388 36.93877551 37.14285714\n",
      " 37.34693878 37.55102041 37.75510204 37.95918367 38.16326531 38.36734694\n",
      " 38.57142857 38.7755102  38.97959184 39.18367347 39.3877551  39.59183673\n",
      " 39.79591837 40.        ]\n",
      "\n"
     ]
    }
   ],
   "source": [
    "# Task: \n",
    "# Use np.linspace make an interval from -5 to 5 and store it in x.\n",
    "# Repeat for 30.0 to 40.0, store it in y\n",
    "# Print both x and y\n",
    "\n",
    "# -!- Interval size was NOT specified for a reason. Play with interval sizes. \n",
    "# -!- Make sure NOT to delete lists when done due to use later\n",
    "\n",
    "x = np.linspace(-5, 5, 50)\n",
    "y = np.linspace(30.0, 40.0, 50)\n",
    "\n",
    "print(x)\n",
    "print()\n",
    "print(y)\n",
    "print()\n",
    "\n"
   ]
  },
  {
   "cell_type": "markdown",
   "metadata": {},
   "source": [
    "#### Indexing or Slicing an ndarray\n",
    "\n",
    "Just like with lists, pandas DataFrames, or any other data structure you may want to access particular elements or subsets of an ndarray. Let's see how to do that below."
   ]
  },
  {
   "cell_type": "code",
   "execution_count": 18,
   "metadata": {},
   "outputs": [
    {
     "data": {
      "text/plain": [
       "array([[-0.22581591, -0.54295777],\n",
       "       [-0.40407486,  0.79670392],\n",
       "       [ 0.26426939,  0.87930427],\n",
       "       [ 0.66930184, -0.55853128],\n",
       "       [-0.58556715, -0.16871727],\n",
       "       [-0.46104663, -0.51930508],\n",
       "       [ 0.41759801, -0.52021532],\n",
       "       [ 0.48822812,  0.39085044],\n",
       "       [ 0.80411273,  0.75586395],\n",
       "       [ 0.49672671, -0.5521117 ],\n",
       "       [ 0.3624485 ,  0.58307738],\n",
       "       [ 0.58196921,  0.58443902],\n",
       "       [ 0.94689821, -0.09851758],\n",
       "       [-0.42751317, -0.3161693 ],\n",
       "       [-0.87247637, -0.93946151],\n",
       "       [-0.30283715, -0.37961091],\n",
       "       [ 0.10627899,  0.11401102],\n",
       "       [-0.65060566,  0.75848859],\n",
       "       [ 0.30571543,  0.76918142],\n",
       "       [-0.73004269,  0.12481611],\n",
       "       [-0.12401155,  0.72878281],\n",
       "       [-0.28427629,  0.75559828],\n",
       "       [-0.88459896,  0.47271796],\n",
       "       [ 0.60944818, -0.57003531],\n",
       "       [-0.92947335, -0.85059347],\n",
       "       [ 0.19440377,  0.89929746],\n",
       "       [ 0.77323917,  0.08172178],\n",
       "       [ 0.62983463, -0.00341994],\n",
       "       [-0.64582574,  0.84122113],\n",
       "       [-0.63997318, -0.02742834],\n",
       "       [ 0.33140016, -0.75953813],\n",
       "       [-0.66423654,  0.10002714],\n",
       "       [-0.88493853, -0.80930408],\n",
       "       [-0.50097323,  0.23218148],\n",
       "       [-0.76555092, -0.79353326],\n",
       "       [ 0.60849318,  0.09073773],\n",
       "       [-0.9795919 , -0.93459847],\n",
       "       [ 0.33885195, -0.85320484],\n",
       "       [ 0.35270487, -0.50985012],\n",
       "       [-0.9951766 , -0.46569479],\n",
       "       [-0.13564094, -0.86230065],\n",
       "       [-0.46098102,  0.19254294],\n",
       "       [-0.35702912, -0.56739604],\n",
       "       [-0.10683998,  0.13316303],\n",
       "       [-0.62495274,  0.06328361],\n",
       "       [ 0.70870569,  0.91235922],\n",
       "       [-0.34085914, -0.77553877],\n",
       "       [-0.32442763, -0.17914496],\n",
       "       [-0.51857164, -0.21560399],\n",
       "       [-0.37886173, -0.45478947]])"
      ]
     },
     "execution_count": 18,
     "metadata": {},
     "output_type": "execute_result"
    }
   ],
   "source": [
    "# a is a random 50 by 2 array\n",
    "# more on random arrays in a bit\n",
    "\n",
    "a = 2*np.random.random((50,2)) - 1\n",
    "\n",
    "a\n"
   ]
  },
  {
   "cell_type": "code",
   "execution_count": 19,
   "metadata": {},
   "outputs": [
    {
     "name": "stdout",
     "output_type": "stream",
     "text": [
      "0.7967039155870856\n",
      "\n",
      "[-0.58556715 -0.16871727]\n",
      "\n",
      "[-0.22581591 -0.40407486  0.26426939  0.66930184 -0.58556715 -0.46104663\n",
      "  0.41759801  0.48822812  0.80411273  0.49672671  0.3624485   0.58196921\n",
      "  0.94689821 -0.42751317 -0.87247637 -0.30283715  0.10627899 -0.65060566\n",
      "  0.30571543 -0.73004269 -0.12401155 -0.28427629 -0.88459896  0.60944818\n",
      " -0.92947335  0.19440377  0.77323917  0.62983463 -0.64582574 -0.63997318\n",
      "  0.33140016 -0.66423654 -0.88493853 -0.50097323 -0.76555092  0.60849318\n",
      " -0.9795919   0.33885195  0.35270487 -0.9951766  -0.13564094 -0.46098102\n",
      " -0.35702912 -0.10683998 -0.62495274  0.70870569 -0.34085914 -0.32442763\n",
      " -0.51857164 -0.37886173]\n"
     ]
    }
   ],
   "source": [
    "# I can get an individual entry like so\n",
    "# the 1 row and 1 column entry\n",
    "print(a[1,1])\n",
    "print()\n",
    "\n",
    "\n",
    "# the entire 4th row\n",
    "print(a[4,:])\n",
    "print()\n",
    "\n",
    "\n",
    "# The entire 0th column\n",
    "# note despite being a column it is output as a row vector\n",
    "print(a[:,0])\n"
   ]
  },
  {
   "cell_type": "code",
   "execution_count": 20,
   "metadata": {},
   "outputs": [
    {
     "data": {
      "text/plain": [
       "array([[-0.40407486,  0.79670392],\n",
       "       [ 0.26426939,  0.87930427],\n",
       "       [ 0.66930184, -0.55853128]])"
      ]
     },
     "execution_count": 20,
     "metadata": {},
     "output_type": "execute_result"
    }
   ],
   "source": [
    "# You can get a slice of a as well, such as the 1 through 4 rows\n",
    "\n",
    "a[1:4,:]\n"
   ]
  },
  {
   "cell_type": "code",
   "execution_count": 21,
   "metadata": {},
   "outputs": [
    {
     "data": {
      "text/plain": [
       "array([0.79670392, 0.26426939, 0.87930427, 0.66930184, 0.41759801,\n",
       "       0.48822812, 0.39085044, 0.80411273, 0.75586395, 0.49672671,\n",
       "       0.3624485 , 0.58307738, 0.58196921, 0.58443902, 0.94689821,\n",
       "       0.10627899, 0.11401102, 0.75848859, 0.30571543, 0.76918142,\n",
       "       0.12481611, 0.72878281, 0.75559828, 0.47271796, 0.60944818,\n",
       "       0.19440377, 0.89929746, 0.77323917, 0.08172178, 0.62983463,\n",
       "       0.84122113, 0.33140016, 0.10002714, 0.23218148, 0.60849318,\n",
       "       0.09073773, 0.33885195, 0.35270487, 0.19254294, 0.13316303,\n",
       "       0.06328361, 0.70870569, 0.91235922])"
      ]
     },
     "execution_count": 21,
     "metadata": {},
     "output_type": "execute_result"
    }
   ],
   "source": [
    "# You can index by logical conditions\n",
    "\n",
    "# Every entry of a where a is positive and returned as a 1d array\n",
    "a[ a > 0 ]"
   ]
  },
  {
   "cell_type": "code",
   "execution_count": 22,
   "metadata": {},
   "outputs": [
    {
     "data": {
      "text/plain": [
       "array([[ 0.66930184, -0.55853128],\n",
       "       [ 0.41759801, -0.52021532],\n",
       "       [ 0.49672671, -0.5521117 ],\n",
       "       [ 0.94689821, -0.09851758],\n",
       "       [ 0.60944818, -0.57003531],\n",
       "       [ 0.62983463, -0.00341994],\n",
       "       [ 0.33140016, -0.75953813],\n",
       "       [ 0.33885195, -0.85320484],\n",
       "       [ 0.35270487, -0.50985012]])"
      ]
     },
     "execution_count": 22,
     "metadata": {},
     "output_type": "execute_result"
    }
   ],
   "source": [
    "# Only rows where the 0th columns is positive\n",
    "# and the 1 column is negative\n",
    "\n",
    "a[ ( a[:,0] > 0 ) & ( a[:,1] < 0 ), :]\n"
   ]
  },
  {
   "cell_type": "code",
   "execution_count": 33,
   "metadata": {},
   "outputs": [
    {
     "data": {
      "text/plain": [
       "array([[[-0.22581591, -0.54295777],\n",
       "        [-0.40407486,  0.79670392],\n",
       "        [ 0.26426939,  0.87930427],\n",
       "        [ 0.66930184, -0.55853128],\n",
       "        [-0.58556715, -0.16871727],\n",
       "        [-0.46104663, -0.51930508],\n",
       "        [ 0.41759801, -0.52021532],\n",
       "        [ 0.48822812,  0.39085044],\n",
       "        [ 0.80411273,  0.75586395],\n",
       "        [ 0.49672671, -0.5521117 ],\n",
       "        [ 0.3624485 ,  0.58307738],\n",
       "        [ 0.58196921,  0.58443902],\n",
       "        [ 0.94689821, -0.09851758],\n",
       "        [-0.42751317, -0.3161693 ],\n",
       "        [-0.87247637, -0.93946151],\n",
       "        [-0.30283715, -0.37961091],\n",
       "        [ 0.10627899,  0.11401102],\n",
       "        [-0.65060566,  0.75848859],\n",
       "        [ 0.30571543,  0.76918142],\n",
       "        [-0.73004269,  0.12481611],\n",
       "        [-0.12401155,  0.72878281],\n",
       "        [-0.28427629,  0.75559828],\n",
       "        [-0.88459896,  0.47271796],\n",
       "        [ 0.60944818, -0.57003531],\n",
       "        [-0.92947335, -0.85059347],\n",
       "        [ 0.19440377,  0.89929746],\n",
       "        [ 0.77323917,  0.08172178],\n",
       "        [ 0.62983463, -0.00341994],\n",
       "        [-0.64582574,  0.84122113],\n",
       "        [-0.63997318, -0.02742834],\n",
       "        [ 0.33140016, -0.75953813],\n",
       "        [-0.66423654,  0.10002714],\n",
       "        [-0.88493853, -0.80930408],\n",
       "        [-0.50097323,  0.23218148],\n",
       "        [-0.76555092, -0.79353326],\n",
       "        [ 0.60849318,  0.09073773],\n",
       "        [-0.9795919 , -0.93459847],\n",
       "        [ 0.33885195, -0.85320484],\n",
       "        [ 0.35270487, -0.50985012],\n",
       "        [-0.9951766 , -0.46569479],\n",
       "        [-0.13564094, -0.86230065],\n",
       "        [-0.46098102,  0.19254294],\n",
       "        [-0.35702912, -0.56739604],\n",
       "        [-0.10683998,  0.13316303],\n",
       "        [-0.62495274,  0.06328361],\n",
       "        [ 0.70870569,  0.91235922],\n",
       "        [-0.34085914, -0.77553877],\n",
       "        [-0.32442763, -0.17914496],\n",
       "        [-0.51857164, -0.21560399],\n",
       "        [-0.37886173, -0.45478947]]])"
      ]
     },
     "execution_count": 33,
     "metadata": {},
     "output_type": "execute_result"
    }
   ],
   "source": [
    "# Task: \n",
    "# Find all rows where the 1 column is greater than 0.25 OR the 0 column is less than 0.25\n",
    "\n",
    "#a[ ( a[:,0] < 0.25 ) , :]\n",
    "#a[ ( a[:,1] > 0.25 ) , :]\n",
    "\n",
    "#( a[:,0] < 0.25 ).any() or (a[:,1] > 0.25 ).any()\n",
    "\n",
    "a[ ( a[:,0] < 0.25 ).any() or (a[:,1] > 0.25 ).any(), :]\n"
   ]
  },
  {
   "cell_type": "markdown",
   "metadata": {},
   "source": [
    "### Functions on ndarrays\n",
    "\n",
    "ndarrays are nice because unlike base `python` lists and arrays `numpy` has been designed to allow very fast elementwise operations."
   ]
  },
  {
   "cell_type": "code",
   "execution_count": 34,
   "metadata": {},
   "outputs": [
    {
     "data": {
      "text/plain": [
       "[1, 2, 2, 3]"
      ]
     },
     "execution_count": 34,
     "metadata": {},
     "output_type": "execute_result"
    }
   ],
   "source": [
    "# Practice\n",
    "# What happens here\n",
    "\n",
    "[1,2] + [2,3]\n"
   ]
  },
  {
   "cell_type": "code",
   "execution_count": 35,
   "metadata": {},
   "outputs": [
    {
     "data": {
      "text/plain": [
       "array([3, 5])"
      ]
     },
     "execution_count": 35,
     "metadata": {},
     "output_type": "execute_result"
    }
   ],
   "source": [
    "# What about here?\n",
    "\n",
    "np.array([1,2]) + np.array([2,3])\n"
   ]
  },
  {
   "cell_type": "code",
   "execution_count": 36,
   "metadata": {},
   "outputs": [
    {
     "data": {
      "text/plain": [
       "[3, 4, 3, 4]"
      ]
     },
     "execution_count": 36,
     "metadata": {},
     "output_type": "execute_result"
    }
   ],
   "source": [
    "# What happens here\n",
    "\n",
    "2 * [3,4]\n"
   ]
  },
  {
   "cell_type": "code",
   "execution_count": 37,
   "metadata": {},
   "outputs": [
    {
     "data": {
      "text/plain": [
       "array([6, 8])"
      ]
     },
     "execution_count": 37,
     "metadata": {},
     "output_type": "execute_result"
    }
   ],
   "source": [
    "# What about here?\n",
    "\n",
    "2*np.array([3,4])\n"
   ]
  },
  {
   "cell_type": "code",
   "execution_count": 42,
   "metadata": {},
   "outputs": [
    {
     "ename": "TypeError",
     "evalue": "can only concatenate list (not \"int\") to list",
     "output_type": "error",
     "traceback": [
      "\u001b[0;31m---------------------------------------------------------------------------\u001b[0m",
      "\u001b[0;31mTypeError\u001b[0m                                 Traceback (most recent call last)",
      "Cell \u001b[0;32mIn[42], line 3\u001b[0m\n\u001b[1;32m      1\u001b[0m \u001b[38;5;66;03m# Okay how about\u001b[39;00m\n\u001b[0;32m----> 3\u001b[0m y \u001b[38;5;241m=\u001b[39m \u001b[38;5;241;43m3\u001b[39;49m\u001b[38;5;241;43m*\u001b[39;49m\u001b[43m[\u001b[49m\u001b[38;5;241;43m1\u001b[39;49m\u001b[43m,\u001b[49m\u001b[38;5;241;43m2\u001b[39;49m\u001b[43m,\u001b[49m\u001b[38;5;241;43m3\u001b[39;49m\u001b[43m]\u001b[49m\u001b[43m \u001b[49m\u001b[38;5;241;43m+\u001b[39;49m\u001b[43m \u001b[49m\u001b[38;5;241;43m2\u001b[39;49m\n",
      "\u001b[0;31mTypeError\u001b[0m: can only concatenate list (not \"int\") to list"
     ]
    }
   ],
   "source": [
    "# Okay how about\n",
    "\n",
    "y = 3*[1,2,3] + 2\n"
   ]
  },
  {
   "cell_type": "code",
   "execution_count": 43,
   "metadata": {},
   "outputs": [
    {
     "data": {
      "text/plain": [
       "array([ 5,  8, 11])"
      ]
     },
     "execution_count": 43,
     "metadata": {},
     "output_type": "execute_result"
    }
   ],
   "source": [
    "# and this?\n",
    "\n",
    "y = 3*np.array([1,2,3]) + 2\n",
    "\n",
    "y\n"
   ]
  },
  {
   "cell_type": "code",
   "execution_count": 44,
   "metadata": {},
   "outputs": [
    {
     "data": {
      "text/plain": [
       "array([5.        , 4.79591837, 4.59183673, 4.3877551 , 4.18367347,\n",
       "       3.97959184, 3.7755102 , 3.57142857, 3.36734694, 3.16326531,\n",
       "       2.95918367, 2.75510204, 2.55102041, 2.34693878, 2.14285714,\n",
       "       1.93877551, 1.73469388, 1.53061224, 1.32653061, 1.12244898,\n",
       "       0.91836735, 0.71428571, 0.51020408, 0.30612245, 0.10204082,\n",
       "       0.10204082, 0.30612245, 0.51020408, 0.71428571, 0.91836735,\n",
       "       1.12244898, 1.32653061, 1.53061224, 1.73469388, 1.93877551,\n",
       "       2.14285714, 2.34693878, 2.55102041, 2.75510204, 2.95918367,\n",
       "       3.16326531, 3.36734694, 3.57142857, 3.7755102 , 3.97959184,\n",
       "       4.18367347, 4.3877551 , 4.59183673, 4.79591837, 5.        ])"
      ]
     },
     "execution_count": 44,
     "metadata": {},
     "output_type": "execute_result"
    }
   ],
   "source": [
    "# There are even a number of popular built-in math functions for ndarray absolute value\n",
    "# This is the x from your earlier practice block\n",
    "\n",
    "\n",
    "\n",
    "np.abs(x)\n"
   ]
  },
  {
   "cell_type": "code",
   "execution_count": 45,
   "metadata": {},
   "outputs": [
    {
     "data": {
      "text/plain": [
       "array([2.23606798, 2.18995853, 2.14285714, 2.0946969 , 2.04540301,\n",
       "       1.99489143, 1.94306722, 1.88982237, 1.83503323, 1.77855709,\n",
       "       1.7202278 , 1.65985001, 1.59719141, 1.53197218, 1.46385011,\n",
       "       1.39239919, 1.31707778, 1.23717915, 1.15175111, 1.05945693,\n",
       "       0.95831485, 0.84515425, 0.71428571, 0.55328334, 0.31943828,\n",
       "       0.31943828, 0.55328334, 0.71428571, 0.84515425, 0.95831485,\n",
       "       1.05945693, 1.15175111, 1.23717915, 1.31707778, 1.39239919,\n",
       "       1.46385011, 1.53197218, 1.59719141, 1.65985001, 1.7202278 ,\n",
       "       1.77855709, 1.83503323, 1.88982237, 1.94306722, 1.99489143,\n",
       "       2.04540301, 2.0946969 , 2.14285714, 2.18995853, 2.23606798])"
      ]
     },
     "execution_count": 45,
     "metadata": {},
     "output_type": "execute_result"
    }
   ],
   "source": [
    "# ... and square root\n",
    "\n",
    "np.sqrt(np.abs(x))\n"
   ]
  },
  {
   "cell_type": "code",
   "execution_count": 46,
   "metadata": {},
   "outputs": [
    {
     "data": {
      "text/plain": [
       "array([-5., -5., -5., -5., -5., -4., -4., -4., -4., -4., -3., -3., -3.,\n",
       "       -3., -3., -2., -2., -2., -2., -2., -1., -1., -1., -1., -1.,  0.,\n",
       "        0.,  0.,  0.,  0.,  1.,  1.,  1.,  1.,  1.,  2.,  2.,  2.,  2.,\n",
       "        2.,  3.,  3.,  3.,  3.,  3.,  4.,  4.,  4.,  4.,  5.])"
      ]
     },
     "execution_count": 46,
     "metadata": {},
     "output_type": "execute_result"
    }
   ],
   "source": [
    "# ... and the floor function\n",
    "\n",
    "np.floor(x)"
   ]
  },
  {
   "cell_type": "code",
   "execution_count": 47,
   "metadata": {},
   "outputs": [
    {
     "name": "stdout",
     "output_type": "stream",
     "text": [
      "[-5.         -4.79591837 -4.59183673 -4.3877551  -4.18367347 -3.97959184\n",
      " -3.7755102  -3.57142857 -3.36734694 -3.16326531 -2.95918367 -2.75510204\n",
      " -2.55102041 -2.34693878 -2.14285714 -1.93877551 -1.73469388 -1.53061224\n",
      " -1.32653061 -1.12244898 -0.91836735 -0.71428571 -0.51020408 -0.30612245\n",
      " -0.10204082  0.10204082  0.30612245  0.51020408  0.71428571  0.91836735\n",
      "  1.12244898  1.32653061  1.53061224  1.73469388  1.93877551  2.14285714\n",
      "  2.34693878  2.55102041  2.75510204  2.95918367  3.16326531  3.36734694\n",
      "  3.57142857  3.7755102   3.97959184  4.18367347  4.3877551   4.59183673\n",
      "  4.79591837  5.        ]\n",
      "----------\n",
      "[1.92709475e+00 1.92312890e+00 1.92485921e+00 1.93376389e+00\n",
      " 1.95166600e+00 1.98081225e+00 2.02396961e+00 2.08454388e+00\n",
      " 2.16672504e+00 2.27566551e+00 2.41769862e+00 2.60060641e+00\n",
      " 2.83394768e+00 3.12945984e+00 3.50155075e+00 3.96790049e+00\n",
      " 4.55019702e+00 5.27503443e+00 6.17500792e+00 7.29004570e+00\n",
      " 8.66902259e+00 1.03717036e+01 1.24710597e+01 1.50559724e+01\n",
      " 1.82342568e+01 2.23404632e+01 2.75462066e+01 3.38673395e+01\n",
      " 4.15682665e+01 5.09697000e+01 6.24627549e+01 7.65256411e+01\n",
      " 9.37438307e+01 1.14834627e+02 1.40677200e+02 1.72349357e+02\n",
      " 2.11172611e+02 2.58767412e+02 3.17120886e+02 3.88669875e+02\n",
      " 4.76402789e+02 5.83984497e+02 7.15909497e+02 8.77689753e+02\n",
      " 1.07608506e+03 1.31938557e+03 1.61775825e+03 1.98367180e+03\n",
      " 2.43241779e+03 2.98274975e+03]\n"
     ]
    }
   ],
   "source": [
    "# Practice\n",
    "# using np.exp define y to be \n",
    "# e^(x+3) + log(|x|+1)\n",
    "\n",
    "\n",
    "y = np.exp(x+3) + np.log( np.abs(x) + 1 )\n",
    "\n",
    "print(x)\n",
    "print('-'*10)\n",
    "print(y)\n"
   ]
  },
  {
   "cell_type": "markdown",
   "metadata": {},
   "source": [
    "### Pseudorandom ndarrays and Stat Functions\n",
    "\n",
    "`numpy` is useful for generating random numbers as well. We can look at common statistics of arrays too."
   ]
  },
  {
   "cell_type": "code",
   "execution_count": 48,
   "metadata": {},
   "outputs": [
    {
     "data": {
      "text/plain": [
       "0.052293350078759904"
      ]
     },
     "execution_count": 48,
     "metadata": {},
     "output_type": "execute_result"
    }
   ],
   "source": [
    "# random generators are stored in np.random\n",
    "# a np.random.random() gives a uniform random number in [0,1]\n",
    "\n",
    "np.random.random()\n",
    "\n",
    "# execute this block a few times to confirm random outputs"
   ]
  },
  {
   "cell_type": "code",
   "execution_count": 49,
   "metadata": {},
   "outputs": [
    {
     "name": "stdout",
     "output_type": "stream",
     "text": [
      "0.5327726687011869\n",
      "\n"
     ]
    },
    {
     "data": {
      "text/plain": [
       "array([[ 0.63416527,  0.08027837],\n",
       "       [ 0.5242899 , -1.03538355],\n",
       "       [-0.03801508, -0.36520252],\n",
       "       [ 1.71232509,  0.60664256],\n",
       "       [ 0.98022462, -0.0376871 ],\n",
       "       [ 1.5506075 , -1.08638174],\n",
       "       [-1.50353286,  0.12350488],\n",
       "       [-2.00871273, -1.71048538],\n",
       "       [ 0.65411734, -0.7288035 ],\n",
       "       [-0.06818732, -1.51800421]])"
      ]
     },
     "execution_count": 49,
     "metadata": {},
     "output_type": "execute_result"
    }
   ],
   "source": [
    "# np.random.randn() is a normal(0,1) number\n",
    "# a single draw\n",
    "\n",
    "print(np.random.randn())\n",
    "print()\n",
    "\n",
    "# .. and for an an array of draws:\n",
    "\n",
    "np.random.randn(10,2)"
   ]
  },
  {
   "cell_type": "code",
   "execution_count": 50,
   "metadata": {},
   "outputs": [
    {
     "data": {
      "text/plain": [
       "array([[ 0.02308061, -0.39688189, -1.9091734 ],\n",
       "       [ 0.46195645, -0.61678305,  0.02087308],\n",
       "       [ 0.35147188,  1.00243189, -1.11487857],\n",
       "       [ 1.08336943, -1.73372643,  1.33462854],\n",
       "       [-1.11347604,  0.10662462, -1.56603817],\n",
       "       [ 0.43418459,  0.38022127,  1.69038724],\n",
       "       [ 0.01917021,  2.42459938,  0.08150739],\n",
       "       [-0.75877981, -1.20665496, -0.57059416],\n",
       "       [-2.07207448,  1.29930471,  0.91368332],\n",
       "       [-0.69510378, -0.26305651,  0.80132419],\n",
       "       [ 0.65226134, -0.4667853 ,  0.15859886],\n",
       "       [-2.57564281,  0.53329816,  0.74511459],\n",
       "       [-0.04028638, -0.47030592,  0.30211973],\n",
       "       [ 0.19169811, -0.62115768, -2.26673733],\n",
       "       [-0.86518164,  0.58925139,  0.5192409 ],\n",
       "       [ 0.03644177,  0.19985132, -1.07148708],\n",
       "       [-0.86679038,  0.99235229, -0.00294505],\n",
       "       [-0.38049351, -1.1030069 ,  0.25426428],\n",
       "       [-0.93859741, -0.78222926, -1.16600649],\n",
       "       [-0.60443286,  1.28510538, -0.62882162]])"
      ]
     },
     "execution_count": 50,
     "metadata": {},
     "output_type": "execute_result"
    }
   ],
   "source": [
    "# Task: \n",
    "# Make a 20 by 3 array of random normal draws and call it X for items in the next block\n",
    "\n",
    "\n",
    "X = np.random.randn(20,3)\n",
    "\n",
    "X\n"
   ]
  },
  {
   "cell_type": "code",
   "execution_count": 51,
   "metadata": {},
   "outputs": [
    {
     "name": "stdout",
     "output_type": "stream",
     "text": [
      "-0.1663285329379443\n",
      "\n",
      "[-0.38286124  0.05762262 -0.17374699]\n",
      "\n",
      "[-0.76099156 -0.04465117  0.07967506  0.22809051 -0.85762986  0.83493103\n",
      "  0.84175899 -0.84534298  0.04697118 -0.0522787   0.11469163 -0.43241002\n",
      " -0.06949086 -0.8987323   0.08110355 -0.278398    0.04087229 -0.40974538\n",
      " -0.96227772  0.01728363]\n"
     ]
    }
   ],
   "source": [
    "# We can use np.mean to get the overall array mean\n",
    "print(np.mean(X))\n",
    "print()\n",
    "\n",
    "# ... the row mean\n",
    "print(np.mean(X,axis=0))\n",
    "print()\n",
    "\n",
    "# ... or the column mean (again output as a row vector)\n",
    "print(np.mean(X,axis=1))\n"
   ]
  },
  {
   "cell_type": "markdown",
   "metadata": {},
   "source": [
    "### Linear Algebra with `numpy`\n",
    "\n",
    "A final important use for us is `numpy` as a way to perform linear algebra calculations."
   ]
  },
  {
   "cell_type": "code",
   "execution_count": 52,
   "metadata": {},
   "outputs": [
    {
     "data": {
      "text/plain": [
       "array([[1, 2],\n",
       "       [1, 1]])"
      ]
     },
     "execution_count": 52,
     "metadata": {},
     "output_type": "execute_result"
    }
   ],
   "source": [
    "# We can think of a 2D array as a matrix\n",
    "\n",
    "A = np.random.binomial(n=4,p=0.3,size=(2,2))\n",
    "\n",
    "A"
   ]
  },
  {
   "cell_type": "code",
   "execution_count": 53,
   "metadata": {},
   "outputs": [
    {
     "data": {
      "text/plain": [
       "array([1, 2])"
      ]
     },
     "execution_count": 53,
     "metadata": {},
     "output_type": "execute_result"
    }
   ],
   "source": [
    "# A 1d array can be a row vector\n",
    "\n",
    "x = np.array([1,2])\n",
    "x"
   ]
  },
  {
   "cell_type": "code",
   "execution_count": 54,
   "metadata": {},
   "outputs": [
    {
     "data": {
      "text/plain": [
       "array([[1],\n",
       "       [2]])"
      ]
     },
     "execution_count": 54,
     "metadata": {},
     "output_type": "execute_result"
    }
   ],
   "source": [
    "# ... or a column vector\n",
    "\n",
    "x.reshape(-1,1)\n"
   ]
  },
  {
   "cell_type": "code",
   "execution_count": 55,
   "metadata": {},
   "outputs": [
    {
     "data": {
      "text/plain": [
       "array([[5],\n",
       "       [3]])"
      ]
     },
     "execution_count": 55,
     "metadata": {},
     "output_type": "execute_result"
    }
   ],
   "source": [
    "# We can now calculate A*x\n",
    "# matrix.dot() is used for matrix multiplication\n",
    "\n",
    "A.dot(x.reshape(-1,1))\n"
   ]
  },
  {
   "cell_type": "code",
   "execution_count": 60,
   "metadata": {},
   "outputs": [
    {
     "data": {
      "text/plain": [
       "array([ 0.80377231, -0.70443245, -2.89860423,  5.59816381,  1.06213119,\n",
       "       -2.41148815])"
      ]
     },
     "execution_count": 60,
     "metadata": {},
     "output_type": "execute_result"
    }
   ],
   "source": [
    "# Task: \n",
    "# Make a random 6x6 matrix, called B, of values ranging from 0-1\n",
    "# Then multiply it with a column vector of 1s\n",
    "\n",
    "B = np.random.randn(6,6)\n",
    "\n",
    "ones = np.ones(6)\n",
    "\n",
    "B.dot(ones)\n"
   ]
  },
  {
   "cell_type": "code",
   "execution_count": null,
   "metadata": {},
   "outputs": [],
   "source": [
    "# Dr. Robert Young, University of Maryland\n",
    "# In collaboration with Matthew Osborne, Erdos Institute\n",
    "# UMD FIRE Genome Computing"
   ]
  }
 ],
 "metadata": {
  "kernelspec": {
   "display_name": "Python 3 (ipykernel)",
   "language": "python",
   "name": "python3"
  },
  "language_info": {
   "codemirror_mode": {
    "name": "ipython",
    "version": 3
   },
   "file_extension": ".py",
   "mimetype": "text/x-python",
   "name": "python",
   "nbconvert_exporter": "python",
   "pygments_lexer": "ipython3",
   "version": "3.9.16"
  }
 },
 "nbformat": 4,
 "nbformat_minor": 4
}
