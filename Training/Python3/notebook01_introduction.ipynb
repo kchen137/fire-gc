{
 "cells": [
  {
   "cell_type": "markdown",
   "metadata": {},
   "source": [
    "# UMD FIRE Stream- Genome Computing I\n",
    "## Basic Python\n",
    "\n",
    "Hi there!\n",
    "\n",
    "Welcome to the first of a series of tutorials designed to introduce you to Python programming.There are numerous programming languages with pros and cons to each. For much of scientific programming, you will commonly see either C++, Python, MatLab, R, or Mathematica.\n",
    "\n",
    "The key to scientific computing is that you <b>do not have to be an expert coder</b> to use any programming language for your work.\n",
    "\n",
    "\n",
    "Most programming is executed or run at the command line. Here, with notebooks like Jupyter, we will utilize a live kernal to code. Jupyter notebooks are nice for exploring and teaching `python`. This is because you can have chunks where you write something like this block. Use of a notebook allows for <i>live coding</i>, where you can write and execute code without writing a script and using command line.\n",
    "\n",
    "\n",
    "The most common exercise the start a coding language is having you code an output \"Hello World\"\n"
   ]
  },
  {
   "cell_type": "code",
   "execution_count": null,
   "metadata": {},
   "outputs": [],
   "source": [
    "# In python scripting whenever you see '#', you are \"commenting out\" words and phrases. \n",
    "# These are usually descriptions or old code you do not run.\n",
    "\n",
    "# In order to see text as an output, you will need to print the text. So, in Python3, you simply do the following\n",
    "\n",
    "print(\"Hello World!\")\n",
    "\n",
    "# To EXECUTE a code block in Jupyter Notebooks, you hit SHIFT+ENTER"
   ]
  },
  {
   "cell_type": "markdown",
   "metadata": {},
   "source": [
    "This is your first line of code. Congrats.\n",
    "\n",
    "Now there are many many many intro to `python` materials on the web. \n",
    "So instead of making something from scratch we'll have you use an existing resouce. \n",
    "Work your way through the Python Tutorial at W3 Schools, <a href = \"https://www.w3schools.com/python/default.asp\">https://www.w3schools.com/python/default.asp</a>. \n",
    "Start at Python Intro and stop at Python String Formatting.\n",
    "\n",
    "However, there are a few things that I want to highlight from this website"
   ]
  },
  {
   "cell_type": "markdown",
   "metadata": {},
   "source": [
    "## Variables\n",
    "\n",
    "Variables are containers for storing data values.\n",
    "\n",
    "Unlike other programming languages, Python has no command for declaring a variable.\n",
    "\n",
    "A variable is created the moment you first assign a value to it."
   ]
  },
  {
   "cell_type": "code",
   "execution_count": null,
   "metadata": {},
   "outputs": [],
   "source": [
    "x = 5\n",
    "y = \"John\"\n",
    "\n",
    "print(x)\n",
    "\n",
    "print(y)\n"
   ]
  },
  {
   "cell_type": "code",
   "execution_count": null,
   "metadata": {},
   "outputs": [],
   "source": [
    "# If you do not pay attention, you can override variable naming\n",
    "\n",
    "x = 4    # x is of type int\n",
    "\n",
    "print(x)\n"
   ]
  },
  {
   "cell_type": "markdown",
   "metadata": {},
   "source": [
    "Naming varaibles (and files and directories) is a very important piece of your work, so make sure you balance ease with specificity.\n",
    "\n",
    "You <b>cannot</b> use ' ', '-', or names that start with a value as a variable name.\n",
    "\n",
    "Legal variable names:\n",
    "<li>myvar = \"John\"</li> \n",
    "<li>my_var = \"John\"</li> \n",
    "<li>_my_var = \"John\"</li> \n",
    "<li>myVar = \"John\"</li>\n",
    "<li>MYVAR = \"John\"</li>\n",
    "<li>myvar2 = \"John\"</li>\n",
    "\n",
    "Illegal variable names:\n",
    "<li>2myvar = \"John\"</li>\n",
    "<li>my-var = \"John\"</li>\n",
    "<li>my var = \"John\"</li>"
   ]
  },
  {
   "cell_type": "code",
   "execution_count": null,
   "metadata": {},
   "outputs": [],
   "source": [
    "x = \"Sally\" \n",
    "\n",
    "# x is now of type str\n",
    "# also, the variable 'x' will now be over-ridden from the previous code block\n",
    "\n",
    "print(x)\n"
   ]
  },
  {
   "cell_type": "code",
   "execution_count": null,
   "metadata": {},
   "outputs": [],
   "source": [
    "# Python allows you to assign values to multiple variables in one line:\n",
    "\n",
    "x, y, z = \"Orange\", \"Banana\", \"Cherry\"\n",
    "\n",
    "print(x)\n",
    "\n",
    "print(y)\n",
    "\n",
    "print(z)\n",
    "\n",
    "print( )  # I can print an empty space if needed\n",
    "\n",
    "# The Python print statement is often used to output variables.\n",
    "# To combine both text and a variable, Python uses the + character:\n",
    "\n",
    "print(\"My grocery list includes \" + x + \", \" + y + \", and \" + z + \" candies.\")"
   ]
  },
  {
   "cell_type": "markdown",
   "metadata": {},
   "source": [
    "## Built-in Data Types\n",
    "In programming, data type is an important concept.\n",
    "\n",
    "Variables can store data of different types, and different types can do different things.\n",
    "\n",
    "Python has the following data types built-in by default, in these categories:\n",
    "\n",
    "Text Type:\tstr  \n",
    "Numeric Types:\tint, float, complex  \n",
    "Sequence Types:\tlist, tuple, range  \n",
    "Mapping Type:\tdict  \n",
    "Set Types:\tset, frozenset  \n",
    "Boolean Type:\tbool  \n",
    "Binary Types:\tbytes, bytearray, memoryview  "
   ]
  },
  {
   "cell_type": "code",
   "execution_count": null,
   "metadata": {},
   "outputs": [],
   "source": [
    "# You can get the data type of any object by using the type() function:\n",
    "x = 5\n",
    "print(type(x))\n",
    "\n",
    "x = 5.0\n",
    "print(type(x))\n",
    "\n",
    "x = 5.0j\n",
    "print(type(x))\n"
   ]
  },
  {
   "cell_type": "code",
   "execution_count": null,
   "metadata": {},
   "outputs": [],
   "source": [
    "# There is a difference in True/False and true/false.\n",
    "# Booleans must always be capitilized\n",
    "\n",
    "x = True\n",
    "print(type(x))\n",
    "\n",
    "x = true\n",
    "print(type(x))"
   ]
  },
  {
   "cell_type": "markdown",
   "metadata": {},
   "source": [
    "There are three numeric types in Python:\n",
    "\n",
    "int  \n",
    "float  \n",
    "complex  \n",
    "\n",
    "\n",
    "Variables of numeric types are created when you assign a value to them.\n",
    "You can convert from one type to another with the int(), float(), and complex() methods:  "
   ]
  },
  {
   "cell_type": "code",
   "execution_count": null,
   "metadata": {},
   "outputs": [],
   "source": [
    "x = 1    # int\n",
    "y = 2.8  # float\n",
    "z = 1j   # complex\n",
    "\n",
    "#convert from int to float:\n",
    "a = float(x)\n",
    "\n",
    "#convert from float to int:\n",
    "b = int(y)\n",
    "\n",
    "#convert from int to complex:\n",
    "c = complex(x)\n",
    "\n",
    "# ------------------------------------------------\n",
    "# FILL IN THE PRINT FUNCTIONS\n",
    "\n",
    "# print both 'a' and print the type of 'a'\n",
    "print()\n",
    "print(type())\n",
    "\n",
    "\n",
    "# repeat for 'b' and 'c'\n",
    "\n"
   ]
  },
  {
   "cell_type": "markdown",
   "metadata": {},
   "source": [
    "## Python Operators\n",
    "Operators are used to perform operations on variables and values.\n",
    "\n",
    "Bookmark this website and re-visit often: https://www.w3schools.com/python/python_operators.asp"
   ]
  },
  {
   "cell_type": "markdown",
   "metadata": {},
   "source": [
    "## Python Collections (Arrays)\n",
    "There are four collection data types in the Python programming language:\n",
    "\n",
    "List is a collection which is ordered and changeable. Allows duplicate members.  \n",
    "Tuple is a collection which is ordered and unchangeable. Allows duplicate members.  \n",
    "Set is a collection which is unordered and unindexed. No duplicate members.\n",
    "Dictionary is a collection which is unordered, changeable and indexed. No duplicate members.  \n",
    "When choosing a collection type, it is useful to understand the properties of that type. Choosing the right type for a particular data set could mean retention of meaning, and, it could mean an increase in efficiency or security.  "
   ]
  },
  {
   "cell_type": "markdown",
   "metadata": {},
   "source": [
    "### List  \n",
    "A list is a collection which is ordered and changeable. In Python lists are written with square brackets."
   ]
  },
  {
   "cell_type": "code",
   "execution_count": null,
   "metadata": {},
   "outputs": [],
   "source": [
    "thislist = [\"apple\", \"banana\", \"cherry\"]\n",
    "print(thislist)\n",
    "print()"
   ]
  },
  {
   "cell_type": "code",
   "execution_count": null,
   "metadata": {},
   "outputs": [],
   "source": [
    "# To determine how many items a list has, use the len() function:\n",
    "print(len(thislist))\n",
    "print()"
   ]
  },
  {
   "cell_type": "code",
   "execution_count": null,
   "metadata": {},
   "outputs": [],
   "source": [
    "# You access the list items by referring to the index number:\n",
    "# -!- Index numbering starts at 0\n",
    "\n",
    "print(thislist[1])\n",
    "print()"
   ]
  },
  {
   "cell_type": "code",
   "execution_count": null,
   "metadata": {},
   "outputs": [],
   "source": [
    "# Negative indexing means beginning from the end, \n",
    "# -1 refers to the last item, \n",
    "# -2 refers to the second last item etc.\n",
    "\n",
    "print(thislist[-1])\n",
    "print()"
   ]
  },
  {
   "cell_type": "code",
   "execution_count": null,
   "metadata": {},
   "outputs": [],
   "source": [
    "# You can specify a range of indexes by specifying where to start and where to end the range.\n",
    "# When specifying a range, the return value will be a new list with the specified items.\n",
    "\n",
    "thislist = [\"apple\", \"banana\", \"cherry\", \"orange\", \"kiwi\", \"melon\", \"mango\"]\n",
    "print(thislist[2:5])\n",
    "print()\n",
    "print(thislist[-2:-4])\n",
    "print()\n",
    "print(thislist[-4:-2])\n",
    "print()\n",
    "\n",
    "# you can print all until a specific index\n",
    "print(thislist[:4])\n",
    "print()\n",
    "\n",
    "# you can pring start at a specific index until the end\n",
    "print(thislist[2:])\n",
    "print()"
   ]
  },
  {
   "cell_type": "code",
   "execution_count": null,
   "metadata": {},
   "outputs": [],
   "source": [
    "# To change the value of a specific item, refer to the index number:\n",
    "thislist = [\"apple\", \"banana\", \"cherry\"]\n",
    "print(thislist)\n",
    "print()\n",
    "\n",
    "thislist[1] = \"blackcurrant\"\n",
    "print(thislist)\n",
    "print()\n",
    "\n",
    "# To add an item to the end of the list, use the append() method:\n",
    "thislist.append(\"orange\")\n",
    "print(thislist)\n",
    "print()\n",
    "\n",
    "# To add an item at the specified index, use the insert() method:\n",
    "thislist.insert(1, \"banana\")\n",
    "print(thislist)\n",
    "print()\n",
    "\n",
    "\n",
    "# The remove() method removes the specified item:\n",
    "thislist.remove(\"banana\")\n",
    "print(thislist)\n",
    "print()\n",
    "\n",
    "# The del keyword removes the specified index:\n",
    "del thislist[0]\n",
    "print(thislist)\n",
    "print()\n",
    "\n",
    "# -!- The del keyword can also delete the list completely:\n",
    "del thislist\n",
    "print(thislist)\n",
    "print()"
   ]
  },
  {
   "cell_type": "code",
   "execution_count": null,
   "metadata": {},
   "outputs": [],
   "source": [
    "# There are ways to make a copy, one way is to use the built-in List method copy().\n",
    "thislist = [\"apple\", \"banana\", \"cherry\"]\n",
    "print(thislist)\n",
    "print()\n",
    "mylist = thislist.copy()\n",
    "print(mylist)\n",
    "print()\n",
    "\n",
    "\n",
    "# You can JOIN two lists by using either '+' or append()\n",
    "list1 = [\"a\", \"b\" , \"c\"]\n",
    "list2 = [1, 2, 3]\n",
    "\n",
    "list3 = list1 + list2\n",
    "print(list3)\n",
    "print()\n",
    "\n",
    "for x in list2:\n",
    "    list1.append(x)\n",
    "\n",
    "print(list1)"
   ]
  },
  {
   "cell_type": "markdown",
   "metadata": {},
   "source": [
    "<b>Python Modules</b>\n",
    "\n",
    "Consider a module to be the same as a code library. A file containing a set of functions you want to include in your application.  \n",
    "You can retrieve a module using the `import` statement  \n",
    "\n",
    "This is import to use important libraries that are commonly using in scientific and data analysis, including:  \n",
    "\n",
    "`import os` \n",
    "\n",
    "`import sys`\n",
    "\n",
    "`import numpy` \n",
    "\n",
    "`import scipy`\n",
    "\n",
    "`import matploltib`  \n",
    "\n",
    "`import pandas`\n",
    "\n",
    "`import sklearn`\n",
    "\n",
    "You should look up each of these modules on your own. By downloading Jupyter to your computer, these are already downloaded for you.\n"
   ]
  },
  {
   "cell_type": "code",
   "execution_count": null,
   "metadata": {},
   "outputs": [],
   "source": [
    "# Dr. Robert Young, University of Maryland\n",
    "# In collaboration with Matthew Osborne, Erdos Institute\n",
    "# UMD FIRE Genome Computing"
   ]
  }
 ],
 "metadata": {
  "kernelspec": {
   "display_name": "Python 3 (ipykernel)",
   "language": "python",
   "name": "python3"
  },
  "language_info": {
   "codemirror_mode": {
    "name": "ipython",
    "version": 3
   },
   "file_extension": ".py",
   "mimetype": "text/x-python",
   "name": "python",
   "nbconvert_exporter": "python",
   "pygments_lexer": "ipython3",
   "version": "3.9.15"
  }
 },
 "nbformat": 4,
 "nbformat_minor": 4
}
