{
 "cells": [
  {
   "cell_type": "markdown",
   "metadata": {},
   "source": [
    "# UMD FIRE Stream- Genome Computing II\n",
    "## Basic Python- Files\n",
    "\n",
    "Python has several functions for creating, reading, updating, and deleting files, using input and output functions (also known as I/O).\n",
    "\n",
    "The key function for working with files in Python is the open() function.  \n",
    "The open() function takes two parameters; filename, and mode.  \n",
    "\n",
    "There are four different methods (modes) for opening a file:  \n",
    "\"r\" - Read - Default value. Opens a file for reading, error if the file does not exist  \n",
    "\n",
    "\"a\" - Append - Opens a file for appending, creates the file if it does not exist  \n",
    "\n",
    "\"w\" - Write - Opens a file for writing, creates the file if it does not exist  \n",
    "\n",
    "\"x\" - Create - Creates the specified file, returns an error if the file exists  "
   ]
  },
  {
   "cell_type": "code",
   "execution_count": null,
   "metadata": {},
   "outputs": [],
   "source": [
    "# To open a file for reading it is enough to specify the name of the file:\n",
    "\n",
    "# The files are in the 'datafiles' directory, so we will write the path... \n",
    "# from our current directory (\"/training/technical_python\")...\n",
    "# to the file (\"datafiles/<FILENAME>\")\n",
    "\n",
    "infile = open(\"datafiles/test_dnapar.par\", \"r\")\n",
    "\n",
    "# So we have a variable that has this file, but a simple print method won't work\n",
    "\n",
    "print(infile)\n"
   ]
  },
  {
   "cell_type": "code",
   "execution_count": null,
   "metadata": {},
   "outputs": [],
   "source": [
    "# We need to specifically tell Python what to do with this file\n",
    "\n",
    "print(infile.read())\n"
   ]
  },
  {
   "cell_type": "code",
   "execution_count": null,
   "metadata": {},
   "outputs": [],
   "source": [
    "# Return the first 100 characters of the file\n",
    "\n",
    "# Notice that we do not have to store open() into a variable. \n",
    "# This comes in handy if you plan to use that data in the file multiple times.\n",
    "\n",
    "print(open(\"datafiles/test_dnapar.par\", \"r\").read(100))\n"
   ]
  },
  {
   "cell_type": "code",
   "execution_count": null,
   "metadata": {},
   "outputs": [],
   "source": [
    "# What would you see if you show the first 500 characters?\n",
    "\n",
    "\n",
    "print(     )\n",
    "\n",
    "\n"
   ]
  },
  {
   "cell_type": "code",
   "execution_count": null,
   "metadata": {},
   "outputs": [],
   "source": [
    "# Load the file and return one line by using the readline() method:\n",
    "\n",
    "print(open(\"datafiles/test_dnapar.par\", \"r\").readline())\n"
   ]
  },
  {
   "cell_type": "code",
   "execution_count": null,
   "metadata": {},
   "outputs": [],
   "source": [
    "# Read two lines of the file:\n",
    "\n",
    "print(open(\"datafiles/test_dnapar.par\", \"r\").readline())\n",
    "\n",
    "print(open(\"datafiles/test_dnapar.par\", \"r\").readline())\n"
   ]
  },
  {
   "cell_type": "code",
   "execution_count": null,
   "metadata": {},
   "outputs": [],
   "source": [
    "# -!- If we want to output the first two lines, storing the file into a variable helps\n",
    "\n",
    "infile = open(\"datafiles/test_dnapar.par\", \"r\")\n",
    "\n",
    "print(infile.readline())\n",
    "\n",
    "print(infile.readline())\n",
    "\n",
    "# to save memory, we can delete the variable\n",
    "\n",
    "del infile\n"
   ]
  },
  {
   "cell_type": "markdown",
   "metadata": {},
   "source": [
    "In the first notebook you saw print() to put in a space between lines.  \n",
    "\n",
    "However, notice above that this space was already there.  \n",
    "\n",
    "In files there are regular expressions that take care of specific non-viewable tasks:  \n",
    "\"\\s\" is for a space  \n",
    "\"\\t\" is for a tabbed space\n",
    "\"\\n\" is for a new line, equivalent to using Enter in a text document\n",
    "\n",
    "So in the first two lines of text above, they must end with \"\\n\" to generate that extra blank space below\n"
   ]
  },
  {
   "cell_type": "code",
   "execution_count": null,
   "metadata": {},
   "outputs": [],
   "source": [
    "# -!- Be nice to your memory\n",
    "\n",
    "# Always close your files when you are done with them\n",
    "\n",
    "infile = open(\"test_dnarefframe.dat\", \"r\")\n",
    "\n",
    "print(infile.read(100))\n",
    "\n",
    "infile.close()\n",
    "\n",
    "print(infile.read(100))"
   ]
  },
  {
   "cell_type": "markdown",
   "metadata": {},
   "source": [
    "## Write to an Existing File\n",
    "To write to an existing file, you must add a parameter to the open() function:  \n",
    "\n",
    "\"a\" - Append - will append to the end of the file  \n",
    "\n",
    "\"w\" - Write - will overwrite any existing content  \n",
    "\n",
    "## Create a New File\n",
    "To create a new file in Python, use the open() method, with one of the following parameters:  \n",
    "\n",
    "\"x\" - Create - will create a file, returns an error if the file exist  \n",
    "\n",
    "\"a\" - Append - will create a file if the specified file does not exist  \n",
    "\n",
    "\"w\" - Write - will create a file if the specified file does not exist  "
   ]
  },
  {
   "cell_type": "code",
   "execution_count": null,
   "metadata": {},
   "outputs": [],
   "source": [
    "f = open(\"myfile.txt\", \"w\")\n"
   ]
  },
  {
   "cell_type": "markdown",
   "metadata": {},
   "source": [
    "Check the directory you are working from. You should see a new empty text file called \"myfile.txt\".\n",
    "\n",
    "Try to delete it manually right now\n",
    "\n",
    "\n",
    "...you cannot. It's because it's still being used. You must close the file you open before you can manually delete it."
   ]
  },
  {
   "cell_type": "code",
   "execution_count": null,
   "metadata": {},
   "outputs": [],
   "source": [
    "f.close()\n",
    "\n",
    "# Now try to delete it and you will see it works"
   ]
  },
  {
   "cell_type": "code",
   "execution_count": null,
   "metadata": {},
   "outputs": [],
   "source": [
    "# I am going to make a header text file by copying the first two lines of \n",
    "# the par file into a separate file\n",
    "\n",
    "infile  = open(\"datafiles/test_dnapar.par\", \"r\")\n",
    "\n",
    "outfile = open(\"test_header.txt\", \"w\")\n",
    "\n",
    "\n",
    "outfile.write(infile.readline())\n",
    "outfile.write(infile.readline())\n",
    "\n",
    "infile.close()\n",
    "outfile.close()\n",
    "\n",
    "# Open the test_header.txt file and see if it contains what you expected\n"
   ]
  },
  {
   "cell_type": "code",
   "execution_count": null,
   "metadata": {},
   "outputs": [],
   "source": [
    "# Deleting the file requires the \"os\" module\n",
    "\n",
    "import os\n",
    "\n",
    "os.remove(\"test_header.txt\")\n"
   ]
  },
  {
   "cell_type": "code",
   "execution_count": null,
   "metadata": {},
   "outputs": [],
   "source": [
    "# You can check if the file exists by checking the file PATH\n",
    "\n",
    "if os.path.exists(\"test_header.txt\"):\n",
    "    os.remove(\"test_header.txt\")\n",
    "    \n",
    "else:\n",
    "    print(\"The file does not exist\")\n",
    "\n",
    "# -!- This is called an if/else statement. You are telling the computer\n",
    "# \"IF this is a thing, DO something or ELSE do this other thing\"\n"
   ]
  },
  {
   "cell_type": "code",
   "execution_count": null,
   "metadata": {},
   "outputs": [],
   "source": [
    "# TASK: Read and print the first 20 lines of the \"test_dnapdb.pdb\" file in the datafiles directory\n",
    "# by storing the readlines output in a variable called 'lst', which you will need to keep for the next examples\n",
    "\n",
    "infile = open( , \" \")\n",
    "\n",
    "lst = infile.\n",
    "\n",
    "infile.close()\n",
    "\n",
    "print(lst)\n",
    "\n",
    "\n",
    "del infile\n"
   ]
  },
  {
   "cell_type": "code",
   "execution_count": null,
   "metadata": {
    "tags": []
   },
   "outputs": [],
   "source": [
    "# This particular file, a Protein Data Bank file, has a lot of repeated details in it, such as atom type, \n",
    "# nucleotide type, the (x,y,z) positions, and other items.\n",
    "\n",
    "# If we want to view specific lines based on, say, atom type, we can use a FOR loop\n",
    "# Learn about FOR loops here: https://www.w3schools.com/python/python_for_loops.asp\n",
    "\n",
    "# This code block will return every line in the 'lst' variable we made above if the string \"OP1\" is in that line\n",
    "\n",
    "for line in lst:\n",
    "    \n",
    "    if 'OP1' in line:\n",
    "        \n",
    "        print(line)\n",
    "        \n"
   ]
  },
  {
   "cell_type": "code",
   "execution_count": null,
   "metadata": {},
   "outputs": [],
   "source": [
    "lst[0:25]\n"
   ]
  },
  {
   "cell_type": "code",
   "execution_count": null,
   "metadata": {},
   "outputs": [],
   "source": [
    "# TASK: Print every item in lst if both \"O5'\" and \"DA\" are in the item\n",
    "\n",
    "for line in lst:\n",
    "    \n",
    "    if (\"O5'\" in line)&('DA' in line):\n",
    "        \n",
    "        print(line)\n",
    "\n",
    "\n"
   ]
  },
  {
   "cell_type": "code",
   "execution_count": null,
   "metadata": {
    "tags": []
   },
   "outputs": [],
   "source": [
    "# Make a NEW list storing 'lst' BUT we will remove every new line character\n",
    "# We will use a pythonic type of code know as \"list comprehension\", which condenses a loop within a single line\n",
    "\n",
    "# [DO THIS for ITEM in LIST]\n",
    "\n",
    "lst2 = [i.rstrip('\\n') for i in lst]\n",
    "\n",
    "print(lst2)\n"
   ]
  },
  {
   "cell_type": "code",
   "execution_count": null,
   "metadata": {
    "tags": []
   },
   "outputs": [],
   "source": [
    "# redo the FOR loop that returned every item that had OP1 in this new list\n",
    "\n",
    "for line in lst2:\n",
    "    if 'OP1' in line:\n",
    "        print(line)\n",
    "        \n",
    "# Much, much cleaner"
   ]
  },
  {
   "cell_type": "code",
   "execution_count": null,
   "metadata": {},
   "outputs": [],
   "source": [
    "# TASK: \n",
    "# using the data in lst, make a file called \"testpdb_firstbasepair.pdb\" that contains the header and the first BASE PAIR of the original.\n",
    "# Hint: What is Chain A and Chain B? How are they arranged? Does the first base in Chain A mean the same as the first in Chain B?\n",
    "# Make sure to renumber your atom numbers in the new file\n",
    "\n",
    "\n",
    "\n",
    "\n",
    "\n",
    "\n",
    "\n",
    "\n",
    "\n",
    "\n",
    "\n"
   ]
  },
  {
   "cell_type": "code",
   "execution_count": null,
   "metadata": {},
   "outputs": [],
   "source": [
    "# Dr. Robert Young, University of Maryland\n",
    "# In collaboration with Matthew Osborne, Erdos Institute\n",
    "# UMD FIRE Genome Computing"
   ]
  }
 ],
 "metadata": {
  "kernelspec": {
   "display_name": "Python 3 (ipykernel)",
   "language": "python",
   "name": "python3"
  },
  "language_info": {
   "codemirror_mode": {
    "name": "ipython",
    "version": 3
   },
   "file_extension": ".py",
   "mimetype": "text/x-python",
   "name": "python",
   "nbconvert_exporter": "python",
   "pygments_lexer": "ipython3",
   "version": "3.9.16"
  }
 },
 "nbformat": 4,
 "nbformat_minor": 4
}
